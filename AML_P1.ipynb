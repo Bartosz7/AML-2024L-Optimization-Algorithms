{
 "cells": [
  {
   "cell_type": "markdown",
   "metadata": {},
   "source": [
    "# Advanced Machine Learning\n",
    "## Project 1 - Optimization Algorithms\n",
    "### Authors: Bartosz Grabek, Izabela Telejko, Grzegorz Zbrzeżny"
   ]
  },
  {
   "cell_type": "code",
   "execution_count": 1,
   "metadata": {},
   "outputs": [],
   "source": [
    "import numpy as np\n",
    "from utils.train_functions import cv\n",
    "from utils.preprocess_functions import(\n",
    "    preprocess_booking,\n",
    "    preprocess_churn,\n",
    "    preprocess_employee,\n",
    "    preprocess_challenger,\n",
    "    preprocess_jungle,\n",
    "    preprocess_water\n",
    ")\n",
    "from utils.IWLS import IWLS\n",
    "from utils.GD import GD\n",
    "from utils.plots import (\n",
    "    plot_figures_for_cv,\n",
    "    plot_acc_boxplots\n",
    ")"
   ]
  },
  {
   "cell_type": "markdown",
   "metadata": {},
   "source": [
    "### TODO:\n",
    "Some columns in X_challenger and X_jungle have only 0 values"
   ]
  },
  {
   "cell_type": "code",
   "execution_count": 2,
   "metadata": {
    "scrolled": false
   },
   "outputs": [
    {
     "name": "stdout",
     "output_type": "stream",
     "text": [
      "CV split 1\n",
      "Removing multicolinear columns in churn dataset...\n"
     ]
    },
    {
     "name": "stderr",
     "output_type": "stream",
     "text": [
      "Iterations: 100%|██████████| 100/100 [00:01<00:00, 69.88it/s]\n",
      "Epochs: 100%|██████████| 100/100 [00:15<00:00,  6.54it/s]\n",
      "Epochs: 100%|██████████| 100/100 [00:23<00:00,  4.35it/s]\n"
     ]
    },
    {
     "name": "stdout",
     "output_type": "stream",
     "text": [
      "Balanced accuracy of SGD without optimizer is: 0.5408826784726065\n",
      "Balanced accuracy of GD with ADAM is: 0.6358605423353625\n",
      "Balanced accuracy of IWLS is: 0.6731460985058108\n",
      "Balanced accuracy of LR from Scikit is 0.6671278361925844\n",
      "CV split 2\n",
      "Removing multicolinear columns in churn dataset...\n"
     ]
    },
    {
     "name": "stderr",
     "output_type": "stream",
     "text": [
      "Iterations: 100%|██████████| 100/100 [00:01<00:00, 66.52it/s]\n",
      "Epochs: 100%|██████████| 100/100 [00:18<00:00,  5.44it/s]\n",
      "Epochs: 100%|██████████| 100/100 [00:25<00:00,  3.98it/s]"
     ]
    },
    {
     "name": "stdout",
     "output_type": "stream",
     "text": [
      "Balanced accuracy of SGD without optimizer is: 0.5773036487322202\n",
      "Balanced accuracy of GD with ADAM is: 0.6682127396413111\n",
      "Balanced accuracy of IWLS is: 0.662569573283859\n",
      "Balanced accuracy of LR from Scikit is 0.6546072974644404\n"
     ]
    },
    {
     "name": "stderr",
     "output_type": "stream",
     "text": [
      "\n"
     ]
    }
   ],
   "source": [
    "sgd_acc_list, adam_acc_list, iwls_acc_list, l_iwls_vals_list, l_sgd_vals_list, l_adam_vals_list = cv(preprocess_churn, n_splits=2)"
   ]
  },
  {
   "cell_type": "code",
   "execution_count": 3,
   "id": "49da5fd4",
   "metadata": {},
   "outputs": [
    {
     "data": {
      "image/png": "[encoded data removed]",
      "text/plain": [
       "<Figure size 640x480 with 1 Axes>"
      ]
     },
     "metadata": {},
     "output_type": "display_data"
    }
   ],
   "source": [
    "plot_acc_boxplots(sgd_acc_list, adam_acc_list, iwls_acc_list)"
   ]
  },
  {
   "cell_type": "code",
   "execution_count": null,
   "metadata": {
    "scrolled": false
   },
   "outputs": [],
   "source": [
    "plot_figures_for_cv(l_iwls_vals_list, l_sgd_vals_list, l_adam_vals_list)"
   ]
  },
  {
   "cell_type": "markdown",
   "metadata": {},
   "source": [
    "### Data generated from logistic model"
   ]
  },
  {
   "cell_type": "code",
   "execution_count": 20,
   "metadata": {},
   "outputs": [],
   "source": [
    "beta1 = 2\n",
    "\n",
    "n1 = 1000\n",
    "x1 = np.random.exponential(1, size=n1)\n",
    "\n",
    "n2 = 1000\n",
    "x2 = np.random.exponential(1/(beta1+1), size=n2)\n",
    "\n",
    "X = np.expand_dims(np.concatenate((x1, x2), axis=0), axis=1)\n",
    "X = np.concatenate((np.ones((X.shape[0], 1)), X), 1)\n",
    "y = np.expand_dims(np.concatenate((np.ones((1, n1)), np.zeros((1, n2))), axis=1)[0], 1)"
   ]
  },
  {
   "cell_type": "code",
   "execution_count": 21,
   "metadata": {},
   "outputs": [],
   "source": [
    "pi = n1 / (n1 + n2)\n",
    "b0 = -np.log((1 + beta1) * ((1-pi)/pi))"
   ]
  },
  {
   "cell_type": "code",
   "execution_count": 22,
   "metadata": {},
   "outputs": [
    {
     "name": "stderr",
     "output_type": "stream",
     "text": [
      "Iterations:   0%|          | 0/100 [00:00<?, ?it/s]"
     ]
    },
    {
     "name": "stderr",
     "output_type": "stream",
     "text": [
      "Iterations: 100%|██████████| 100/100 [00:01<00:00, 70.58it/s]\n",
      "Epochs: 100%|██████████| 200/200 [00:15<00:00, 13.18it/s]\n",
      "Epochs: 100%|██████████| 200/200 [00:25<00:00,  7.97it/s]\n"
     ]
    }
   ],
   "source": [
    "l_iwls_vals, best_beta_iwls = IWLS(X, y, n_iter=100, print_likeli=False)\n",
    "l_sgd_vals, best_beta_sgd = GD(X, y, 0.0002, n_epoch=200, print_likeli=False, use_adam=False)\n",
    "l_adam_vals, best_beta_adam = GD(X, y, 0.0002, n_epoch=200, print_likeli=False)"
   ]
  },
  {
   "cell_type": "code",
   "execution_count": 23,
   "metadata": {},
   "outputs": [
    {
     "name": "stdout",
     "output_type": "stream",
     "text": [
      "Theoretical betas: b0: -1.0986122886681098, b1: 2\n",
      "Empirical betas for SGD without optimizers: b0: -1.0699219012548087, b1: 1.990073451417658\n",
      "Empirical betas for SGD with ADAM: b0: -1.1692053980479125, b1: 2.18596442046799\n",
      "Empirical betas for IWLS: b0: -1.1669807566919372, b1: 2.178933710128488\n"
     ]
    }
   ],
   "source": [
    "print(f\"Theoretical betas: b0: {b0}, b1: {beta1}\" )\n",
    "print(f\"Empirical betas for SGD without optimizers: b0: {best_beta_sgd[0]}, b1: {best_beta_sgd[1]}\")\n",
    "print(f\"Empirical betas for SGD with ADAM: b0: {best_beta_adam[0]}, b1: {best_beta_adam[1]}\")\n",
    "print(f\"Empirical betas for IWLS: b0: {best_beta_iwls[0][0]}, b1: {best_beta_iwls[1][0]}\")"
   ]
  },
  {
   "cell_type": "code",
   "execution_count": null,
   "id": "215e025b",
   "metadata": {},
   "outputs": [],
   "source": []
  }
 ],
 "metadata": {
  "kernelspec": {
   "display_name": "Python 3",
   "language": "python",
   "name": "python3"
  },
  "language_info": {
   "codemirror_mode": {
    "name": "ipython",
    "version": 3
   },
   "file_extension": ".py",
   "mimetype": "text/x-python",
   "name": "python",
   "nbconvert_exporter": "python",
   "pygments_lexer": "ipython3",
   "version": "3.10.10"
  }
 },
 "nbformat": 4,
 "nbformat_minor": 5
}

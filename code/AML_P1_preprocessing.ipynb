{
 "cells": [
  {
   "cell_type": "markdown",
   "metadata": {},
   "source": [
    "# Advanced Machine Learning\n",
    "## Project 1 - Optimization Algorithms\n",
    "### Authors: Bartosz Grabek, Izabela Telejko, Grzegorz Zbrzeżny"
   ]
  },
  {
   "cell_type": "code",
   "execution_count": 1,
   "metadata": {},
   "outputs": [],
   "source": [
    "import numpy as np\n",
    "import pandas as pd\n",
    "from scipy.io import arff\n",
    "from sklearn import preprocessing \n",
    "from statsmodels.stats.outliers_influence import variance_inflation_factor  \n",
    "pd.set_option('display.max_columns', 500)"
   ]
  },
  {
   "cell_type": "markdown",
   "metadata": {},
   "source": [
    "# Preprocessing"
   ]
  },
  {
   "cell_type": "markdown",
   "metadata": {},
   "source": [
    "Function for calculating VIF (source: https://stats.stackexchange.com/questions/155028/how-to-systematically-remove-collinear-variables-pandas-columns-in-python)"
   ]
  },
  {
   "cell_type": "code",
   "execution_count": 2,
   "metadata": {},
   "outputs": [],
   "source": [
    "def one_hot_encode(df):\n",
    "    for column in df:\n",
    "        if is_object_dtype(df[column]):\n",
    "            dummies = pd.get_dummies(df[column], prefix=column)\n",
    "            if np.sum(df[column].isna()) == 0:\n",
    "                dummies = dummies.iloc[:, :-1]\n",
    "            df = df = df.drop(column, axis = 1)\n",
    "            df = df.join(dummies)\n",
    "    return df"
   ]
  },
  {
   "cell_type": "code",
   "execution_count": 3,
   "metadata": {},
   "outputs": [],
   "source": [
    "def calculate_vif(X, thresh=5.0):\n",
    "    X = X.assign(const=1)  # faster than add_constant from statsmodels\n",
    "    variables = list(range(X.shape[1]))\n",
    "    dropped = True\n",
    "    while dropped:\n",
    "        dropped = False\n",
    "        vif = [variance_inflation_factor(X.iloc[:, variables].values, ix) for ix in range(X.iloc[:, variables].shape[1])]\n",
    "        vif = vif[:-1]  # don't let the constant be removed in the loop.\n",
    "        maxloc = vif.index(max(vif))\n",
    "        if max(vif) > thresh:\n",
    "            print('dropping \\'' + X.iloc[:, variables].columns[maxloc] + '\\' at index: ' + str(maxloc))\n",
    "            del variables[maxloc]\n",
    "            dropped = True\n",
    "\n",
    "    print('Remaining variables:')\n",
    "    print(X.columns[variables[:-1]])\n",
    "    return X.iloc[:, variables[:-1]]"
   ]
  },
  {
   "cell_type": "markdown",
   "metadata": {},
   "source": [
    "## Preprocessing functions"
   ]
  },
  {
   "cell_type": "code",
   "execution_count": 4,
   "metadata": {},
   "outputs": [],
   "source": [
    "def preprocess_employee(filename):\n",
    "    df = pd.read_csv(filename)\n",
    "    df['EducationBachelors'] = 1 * (df['Education'] == 'Bachelors')\n",
    "    df['EducationMasters'] = 1 * (df['Education'] == 'Masters')\n",
    "    df['Gender'] = df['Gender'].map({'Female': 1, 'Male': 0})\n",
    "    df['EverBenched'] = df['EverBenched'].map({'No': 0, 'Yes': 1})\n",
    "    df.drop(['Education', 'City'], axis=1, inplace=True)\n",
    "    X = calculate_vif(df.drop('LeaveOrNot', axis=1)).to_numpy()\n",
    "    y = df['LeaveOrNot'].to_numpy()\n",
    "    return X, y\n",
    "\n",
    "def preprocess_challenger(filename):\n",
    "    df = pd.read_csv(filename)\n",
    "    df.drop('gameId', axis=1, inplace=True)\n",
    "    for col in ['blue', 'red']:\n",
    "        for lane in ['BOT_LANE', 'MID_LANE', 'TOP_LANE']:\n",
    "            df[f'{col}FirstTowerLane_{lane}'] = df[f'{col}FirstTowerLane'].apply(lambda x: int(lane in x))\n",
    "        for dragon in ['AIR_DRAGON', 'WATER_DRAGON', 'FIRE_DRAGON', 'EARTH_DRAGON']:\n",
    "            df[f'{col}DragnoType_{dragon}'] = df[f'{col}DragnoType'].apply(lambda x: int(lane in x))\n",
    "        df.drop(f'{col}FirstTowerLane', axis=1, inplace=True)\n",
    "        df.drop(f'{col}DragnoType', axis=1, inplace=True)\n",
    "    X = calculate_vif(df.drop('blueWins', axis=1)).to_numpy()\n",
    "    y = df['blueWins'].to_numpy()\n",
    "    return X, y\n",
    "\n",
    "def preprocess_jungle(filename):\n",
    "    df = arff.loadarff(filename)\n",
    "    df = pd.DataFrame(df[0])\n",
    "    str_df = df.select_dtypes([object])\n",
    "    str_df = str_df.stack().str.decode('utf-8').unstack()\n",
    "    for col in str_df:\n",
    "        df[col] = str_df[col]\n",
    "    df = df[df['class'] != 'd']\n",
    "    df[['highest_strength', 'closest_to_den', 'fastest_to_den', 'class']] = df.copy()[['highest_strength', 'closest_to_den', 'fastest_to_den', 'class']].applymap(lambda x: int(x == 'w'))\n",
    "    df = pd.concat([df, pd.get_dummies(df[['white_piece0_advanced', 'black_piece0_advanced']], drop_first=True)], axis=1)\n",
    "    df.drop(['white_piece0_advanced', 'black_piece0_advanced'], axis=1, inplace=True)\n",
    "    df = df.apply(pd.to_numeric)\n",
    "    X = calculate_vif(df.drop('class', axis=1)).to_numpy()\n",
    "    y = df['class'].to_numpy()\n",
    "    return X, y\n",
    "\n",
    "def preprocess_water(filename):\n",
    "    water = pd.read_csv(filename)\n",
    "    water[\"ammonia\"] = water[\"ammonia\"].replace(\"#NUM!\", -100)\n",
    "    water[\"ammonia\"] = water[\"ammonia\"].astype(float)\n",
    "    water[\"ammonia\"] = water[\"ammonia\"].replace(-100, water.loc[water[\"ammonia\"] != -100, \"ammonia\"].mean())\n",
    "    y_water = water.is_safe.to_numpy()\n",
    "    X_water = water.drop(\"is_safe\", axis=1)\n",
    "    X_water = calculate_vif_(X_water).to_numpy()\n",
    "    return X_water, y_water\n",
    "\n",
    "def preprocess_booking(filename):\n",
    "    booking = pd.read_csv(filename).drop([\"Booking_ID\", \"date of reservation\"], axis=1)\n",
    "    booking[\"market segment type\"] = 1*(booking[\"market segment type\"] == \"Online\")\n",
    "    booking[\"booking status\"] = 1*(booking[\"booking status\"] == \"Canceled\")\n",
    "    label_encoder = preprocessing.LabelEncoder() \n",
    "    booking[\"room type\"] = label_encoder.fit_transform(booking[\"room type\"]) \n",
    "    booking = one_hot_encode(booking)\n",
    "    y_booking = booking[\"booking status\"].to_numpy()\n",
    "    X_booking = booking.drop(\"booking status\", axis=1)\n",
    "    X_booking = calculate_vif_(X_booking).to_numpy()\n",
    "    return X_booking, y_booking\n",
    "\n",
    "def preprocess_churn(filename):\n",
    "    churn = pd.read_csv(filename)\n",
    "    churn[\"FrequentFlyer\"] = 1*(churn[\"FrequentFlyer\"] == \"Yes\")\n",
    "    churn[\"BookedHotelOrNot\"] = 1*(churn[\"BookedHotelOrNot\"] == \"Yes\")\n",
    "    churn[\"AccountSyncedToSocialMedia\"] = 1*(churn[\"AccountSyncedToSocialMedia\"] == \"Yes\")\n",
    "    churn.loc[churn[\"AnnualIncomeClass\"] == \"Low Income\", \"AnnualIncomeClass\"] = 0\n",
    "    churn.loc[churn[\"AnnualIncomeClass\"] == \"Middle Income\", \"AnnualIncomeClass\"] = 1\n",
    "    churn.loc[churn[\"AnnualIncomeClass\"] == \"High Income\", \"AnnualIncomeClass\"] = 2\n",
    "    churn.AnnualIncomeClass = churn.AnnualIncomeClass.astype(int)\n",
    "    y_churn = churn.Target.to_numpy()\n",
    "    X_churn = churn.drop(\"Target\", axis=1)\n",
    "    X_churn = calculate_vif_(X_churn).to_numpy()\n",
    "    return X_churn, y_churn"
   ]
  },
  {
   "cell_type": "code",
   "execution_count": 18,
   "metadata": {
    "collapsed": true
   },
   "outputs": [
    {
     "name": "stdout",
     "output_type": "stream",
     "text": [
      "Remaining variables:\n",
      "Index(['JoiningYear', 'PaymentTier', 'Age', 'Gender', 'EverBenched',\n",
      "       'ExperienceInCurrentDomain', 'EducationBachelors', 'EducationMasters'],\n",
      "      dtype='object')\n"
     ]
    },
    {
     "name": "stderr",
     "output_type": "stream",
     "text": [
      "C:\\Users\\izate\\anaconda3\\lib\\site-packages\\statsmodels\\stats\\outliers_influence.py:195: RuntimeWarning: divide by zero encountered in double_scalars\n",
      "  vif = 1. / (1. - r_squared_i)\n",
      "C:\\Users\\izate\\anaconda3\\lib\\site-packages\\statsmodels\\regression\\linear_model.py:1752: RuntimeWarning: invalid value encountered in double_scalars\n",
      "  return 1 - self.ssr/self.centered_tss\n"
     ]
    },
    {
     "name": "stdout",
     "output_type": "stream",
     "text": [
      "dropping 'blueTotalLevel' at index: 2\n",
      "dropping 'blueKill' at index: 6\n",
      "dropping 'blueDeath' at index: 6\n",
      "dropping 'blueFirstTower' at index: 9\n",
      "dropping 'blueTowerKills' at index: 10\n",
      "dropping 'redTotalLevel' at index: 20\n",
      "dropping 'redFirstTower' at index: 29\n",
      "dropping 'redTowerKills' at index: 30\n",
      "dropping 'blueTotalGolds' at index: 0\n",
      "dropping 'redAvgLevel' at index: 19\n",
      "dropping 'redTotalGolds' at index: 17\n",
      "dropping 'redFirstDragon' at index: 31\n",
      "dropping 'blueAssist' at index: 5\n",
      "dropping 'redAssist' at index: 22\n",
      "dropping 'blueFirstInhibitor' at index: 7\n",
      "dropping 'redFirstInhibitor' at index: 23\n",
      "dropping 'blueTotalMinionKills' at index: 2\n",
      "dropping 'redDeath' at index: 19\n",
      "Remaining variables:\n",
      "Index(['blueCurrentGolds', 'blueAvgLevel', 'blueTotalJungleMinionKills',\n",
      "       'blueFirstBlood', 'blueWardPlaced', 'blueWardKills',\n",
      "       'blueMidTowerKills', 'blueTopTowerKills', 'blueBotTowerKills',\n",
      "       'blueInhibitor', 'blueFirstDragon', 'blueDragon', 'blueRiftHeralds',\n",
      "       'redWins', 'redCurrentGolds', 'redTotalMinionKills',\n",
      "       'redTotalJungleMinionKills', 'redFirstBlood', 'redKill',\n",
      "       'redWardPlaced', 'redWardKills', 'redMidTowerKills', 'redTopTowerKills',\n",
      "       'redBotTowerKills', 'redInhibitor', 'redDragon', 'redRiftHeralds',\n",
      "       'blueFirstTowerLane_BOT_LANE', 'blueFirstTowerLane_MID_LANE',\n",
      "       'blueFirstTowerLane_TOP_LANE', 'blueDragnoType_AIR_DRAGON',\n",
      "       'blueDragnoType_WATER_DRAGON', 'blueDragnoType_FIRE_DRAGON',\n",
      "       'blueDragnoType_EARTH_DRAGON', 'redFirstTowerLane_BOT_LANE',\n",
      "       'redFirstTowerLane_MID_LANE', 'redFirstTowerLane_TOP_LANE',\n",
      "       'redDragnoType_AIR_DRAGON', 'redDragnoType_WATER_DRAGON',\n",
      "       'redDragnoType_FIRE_DRAGON', 'redDragnoType_EARTH_DRAGON'],\n",
      "      dtype='object')\n"
     ]
    },
    {
     "name": "stderr",
     "output_type": "stream",
     "text": [
      "C:\\Users\\izate\\anaconda3\\lib\\site-packages\\statsmodels\\stats\\outliers_influence.py:195: RuntimeWarning: divide by zero encountered in double_scalars\n",
      "  vif = 1. / (1. - r_squared_i)\n",
      "C:\\Users\\izate\\anaconda3\\lib\\site-packages\\statsmodels\\regression\\linear_model.py:1752: RuntimeWarning: invalid value encountered in double_scalars\n",
      "  return 1 - self.ssr/self.centered_tss\n",
      "C:\\Users\\izate\\anaconda3\\lib\\site-packages\\statsmodels\\regression\\linear_model.py:1752: RuntimeWarning: divide by zero encountered in double_scalars\n",
      "  return 1 - self.ssr/self.centered_tss\n"
     ]
    },
    {
     "name": "stdout",
     "output_type": "stream",
     "text": [
      "dropping 'white_piece0_rank' at index: 2\n",
      "dropping 'white_piece0_strength' at index: 0\n",
      "dropping 'black_piece0_strength' at index: 15\n",
      "dropping 'black_piece0_rank' at index: 16\n",
      "dropping 'black_piece0_can_cross_shortest' at index: 25\n",
      "dropping 'black_piece0_distanceto_white_den' at index: 16\n",
      "dropping 'white_piece0_distanceto_black_den' at index: 2\n",
      "dropping 'white_unopposed_to_den' at index: 33\n",
      "dropping 'white_piece0_distanceto_white_den' at index: 1\n",
      "dropping 'black_piece0_distanceto_black_den' at index: 14\n",
      "dropping 'black_unopposed_to_den' at index: 31\n",
      "dropping 'white_piece0_can_cross_shortest' at index: 8\n",
      "dropping 'black_piece0_movesto_white_den' at index: 13\n",
      "dropping 'white_piece0_nextto_black_piece0' at index: 11\n",
      "dropping 'white_piece0_movesto_black_den' at index: 4\n",
      "dropping 'white_piece0_advanced_DEF' at index: 29\n",
      "dropping 'black_piece0_advanced_DEF' at index: 30\n",
      "Remaining variables:\n",
      "Index(['white_piece0_file', 'white_piece0_unopposedto_black_den_length',\n",
      "       'white_piece0_unopposedto_black_den_shortest',\n",
      "       'white_piece0_movesto_white_den', 'white_piece0_in_trap',\n",
      "       'white_piece0_in_water', 'white_piece0_can_cross',\n",
      "       'white_piece0_unopposed_to_bank',\n",
      "       'white_piece0_distanceto_black_piece0',\n",
      "       'white_piece0_distanceto_black_piece0_parity', 'black_piece0_file',\n",
      "       'black_piece0_movesto_black_den',\n",
      "       'black_piece0_unopposedto_white_den_length',\n",
      "       'black_piece0_unopposedto_white_den_shortest', 'black_piece0_in_trap',\n",
      "       'black_piece0_in_water', 'black_piece0_can_cross',\n",
      "       'black_piece0_unopposed_to_bank', 'black_piece0_at_d7',\n",
      "       'black_piece0_distanceto_white_piece0',\n",
      "       'black_piece0_distanceto_white_piece0_parity',\n",
      "       'black_piece0_nextto_white_piece0', 'highest_strength',\n",
      "       'closest_to_den', 'closest_to_den_diff', 'fastest_to_den',\n",
      "       'fastest_to_den_diff', 'white_unopposed_to_den_quick_detour',\n",
      "       'black_unopposed_to_den_quick_detour', 'white_piece0_advanced_MID',\n",
      "       'black_piece0_advanced_MID'],\n",
      "      dtype='object')\n"
     ]
    }
   ],
   "source": [
    "X_employee, y_employee = preprocess_employee('data/Employee.csv')\n",
    "X_challenger, y_challenger = preprocess_challenger('data/Challenger_LOL.csv')\n",
    "X_jungle, y_jungle = preprocess_jungle('data/jungle_chess.arff')\n",
    "X_water, y_water = preprocess_water(\"water_quality.csv\")\n",
    "X_booking, y_booking = preprocess_booking(\"booking.csv\")\n",
    "X_churn, y_churn = preprocess_churn(\"churn.csv\")"
   ]
  }
 ],
 "metadata": {
  "kernelspec": {
   "display_name": "Python 3",
   "language": "python",
   "name": "python3"
  },
  "language_info": {
   "codemirror_mode": {
    "name": "ipython",
    "version": 3
   },
   "file_extension": ".py",
   "mimetype": "text/x-python",
   "name": "python",
   "nbconvert_exporter": "python",
   "pygments_lexer": "ipython3",
   "version": "3.8.3"
  }
 },
 "nbformat": 4,
 "nbformat_minor": 5
}

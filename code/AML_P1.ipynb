{
 "cells": [
  {
   "cell_type": "markdown",
   "metadata": {},
   "source": [
    "# Advanced Machine Learning\n",
    "## Project 1 - Optimization Algorithms\n",
    "### Authors: Bartosz Grabek, Izabela Telejko, Grzegorz Zbrzeżny"
   ]
  },
  {
   "cell_type": "code",
   "execution_count": 1,
   "metadata": {},
   "outputs": [],
   "source": [
    "import numpy as np\n",
    "import pandas as pd\n",
    "from scipy.io import arff\n",
    "from sklearn import preprocessing \n",
    "from statsmodels.stats.outliers_influence import variance_inflation_factor  \n",
    "pd.set_option('display.max_columns', 500)\n",
    "from pandas.api.types import is_object_dtype\n",
    "import matplotlib.pyplot as plt\n",
    "from sklearn.linear_model import LogisticRegression\n",
    "from sklearn.metrics import balanced_accuracy_score\n",
    "from tqdm import tqdm\n",
    "\n",
    "import warnings\n",
    "warnings.filterwarnings(\"ignore\")"
   ]
  },
  {
   "cell_type": "markdown",
   "metadata": {},
   "source": [
    "# Preprocessing"
   ]
  },
  {
   "cell_type": "markdown",
   "metadata": {},
   "source": [
    "Function for calculating VIF (source: https://stats.stackexchange.com/questions/155028/how-to-systematically-remove-collinear-variables-pandas-columns-in-python)"
   ]
  },
  {
   "cell_type": "code",
   "execution_count": 2,
   "metadata": {},
   "outputs": [],
   "source": [
    "def one_hot_encode(df):\n",
    "    for column in df:\n",
    "        if is_object_dtype(df[column]):\n",
    "            dummies = pd.get_dummies(df[column], prefix=column)\n",
    "            if np.sum(df[column].isna()) == 0:\n",
    "                dummies = dummies.iloc[:, :-1]\n",
    "            df = df = df.drop(column, axis = 1)\n",
    "            df = df.join(dummies)\n",
    "    return df"
   ]
  },
  {
   "cell_type": "code",
   "execution_count": 3,
   "metadata": {},
   "outputs": [],
   "source": [
    "def calculate_vif(X, thresh=5.0):\n",
    "    X = X.assign(const=1)  # faster than add_constant from statsmodels\n",
    "    variables = list(range(X.shape[1]))\n",
    "    dropped = True\n",
    "    while dropped:\n",
    "        dropped = False\n",
    "        vif = [variance_inflation_factor(X.iloc[:, variables].values, ix) for ix in range(X.iloc[:, variables].shape[1])]\n",
    "        vif = vif[:-1]  # don't let the constant be removed in the loop.\n",
    "        maxloc = vif.index(max(vif))\n",
    "        if max(vif) > thresh:\n",
    "            print('dropping \\'' + X.iloc[:, variables].columns[maxloc] + '\\' at index: ' + str(maxloc))\n",
    "            del variables[maxloc]\n",
    "            dropped = True\n",
    "\n",
    "    print('Remaining variables:')\n",
    "    print(X.columns[variables[:-1]])\n",
    "    return X.iloc[:, variables[:-1]]"
   ]
  },
  {
   "cell_type": "markdown",
   "metadata": {},
   "source": [
    "## Preprocessing functions"
   ]
  },
  {
   "cell_type": "code",
   "execution_count": 4,
   "metadata": {},
   "outputs": [],
   "source": [
    "def preprocess_employee(filename):\n",
    "    df = pd.read_csv(filename)\n",
    "    df['EducationBachelors'] = 1 * (df['Education'] == 'Bachelors')\n",
    "    df['EducationMasters'] = 1 * (df['Education'] == 'Masters')\n",
    "    df['Gender'] = df['Gender'].map({'Female': 1, 'Male': 0})\n",
    "    df['EverBenched'] = df['EverBenched'].map({'No': 0, 'Yes': 1})\n",
    "    df.drop(['Education', 'City'], axis=1, inplace=True)\n",
    "    X = calculate_vif(df.drop('LeaveOrNot', axis=1)).to_numpy()\n",
    "    y = df['LeaveOrNot'].to_numpy()\n",
    "    return X, np.expand_dims(y, 1)\n",
    "\n",
    "def preprocess_challenger(filename):\n",
    "    df = pd.read_csv(filename)\n",
    "    df.drop('gameId', axis=1, inplace=True)\n",
    "    for col in ['blue', 'red']:\n",
    "        for lane in ['BOT_LANE', 'MID_LANE', 'TOP_LANE']:\n",
    "            df[f'{col}FirstTowerLane_{lane}'] = df[f'{col}FirstTowerLane'].apply(lambda x: int(lane in x))\n",
    "        for dragon in ['AIR_DRAGON', 'WATER_DRAGON', 'FIRE_DRAGON', 'EARTH_DRAGON']:\n",
    "            df[f'{col}DragnoType_{dragon}'] = df[f'{col}DragnoType'].apply(lambda x: int(lane in x))\n",
    "        df.drop(f'{col}FirstTowerLane', axis=1, inplace=True)\n",
    "        df.drop(f'{col}DragnoType', axis=1, inplace=True)\n",
    "    X = calculate_vif(df.drop('blueWins', axis=1)).to_numpy()\n",
    "    y = df['blueWins'].to_numpy()\n",
    "    return X, np.expand_dims(y, 1)\n",
    "\n",
    "def preprocess_jungle(filename):\n",
    "    df = arff.loadarff(filename)\n",
    "    df = pd.DataFrame(df[0])\n",
    "    str_df = df.select_dtypes([object])\n",
    "    str_df = str_df.stack().str.decode('utf-8').unstack()\n",
    "    for col in str_df:\n",
    "        df[col] = str_df[col]\n",
    "    df = df[df['class'] != 'd']\n",
    "    df[['highest_strength', 'closest_to_den', 'fastest_to_den', 'class']] = df.copy()[['highest_strength', 'closest_to_den', 'fastest_to_den', 'class']].applymap(lambda x: int(x == 'w'))\n",
    "    df = pd.concat([df, pd.get_dummies(df[['white_piece0_advanced', 'black_piece0_advanced']], drop_first=True)], axis=1)\n",
    "    df.drop(['white_piece0_advanced', 'black_piece0_advanced'], axis=1, inplace=True)\n",
    "    df = df.apply(pd.to_numeric)\n",
    "    X = calculate_vif(df.drop('class', axis=1)).to_numpy()\n",
    "    y = df['class'].to_numpy()\n",
    "    return X, np.expand_dims(y, 1)\n",
    "\n",
    "def preprocess_water(filename):\n",
    "    water = pd.read_csv(filename)\n",
    "    water[\"ammonia\"] = water[\"ammonia\"].replace(\"#NUM!\", -100)\n",
    "    water[\"ammonia\"] = water[\"ammonia\"].astype(float)\n",
    "    water[\"ammonia\"] = water[\"ammonia\"].replace(-100, water.loc[water[\"ammonia\"] != -100, \"ammonia\"].mean())\n",
    "    \n",
    "    water[\"is_safe\"] = water[\"is_safe\"].replace(\"#NUM!\", -100)\n",
    "    water[\"is_safe\"] = water[\"is_safe\"].astype(int)\n",
    "    if np.mean( water.loc[water[\"is_safe\"] != -100, \"is_safe\"]) > 0.5:\n",
    "        dominant = 1\n",
    "    else:\n",
    "        dominant = 0\n",
    "    water[\"is_safe\"] = water[\"is_safe\"].replace(-100, dominant)\n",
    "    y_water = water.is_safe.to_numpy()\n",
    "    X_water = water.drop(\"is_safe\", axis=1)\n",
    "    X_water = calculate_vif(X_water).to_numpy()\n",
    "    return X_water, np.expand_dims(y_water, 1)\n",
    "\n",
    "def preprocess_booking(filename):\n",
    "    booking = pd.read_csv(filename).drop([\"Booking_ID\", \"date of reservation\"], axis=1)\n",
    "    booking[\"market segment type\"] = 1*(booking[\"market segment type\"] == \"Online\")\n",
    "    booking[\"booking status\"] = 1*(booking[\"booking status\"] == \"Canceled\")\n",
    "    label_encoder = preprocessing.LabelEncoder() \n",
    "    booking[\"room type\"] = label_encoder.fit_transform(booking[\"room type\"]) \n",
    "    booking = one_hot_encode(booking)\n",
    "    y_booking = booking[\"booking status\"].to_numpy()\n",
    "    X_booking = booking.drop(\"booking status\", axis=1)\n",
    "    X_booking = calculate_vif(X_booking).to_numpy()\n",
    "    return X_booking, np.expand_dims(y_booking, 1)\n",
    "\n",
    "def preprocess_churn(filename):\n",
    "    churn = pd.read_csv(filename)\n",
    "    churn[\"FrequentFlyer\"] = 1*(churn[\"FrequentFlyer\"] == \"Yes\")\n",
    "    churn[\"BookedHotelOrNot\"] = 1*(churn[\"BookedHotelOrNot\"] == \"Yes\")\n",
    "    churn[\"AccountSyncedToSocialMedia\"] = 1*(churn[\"AccountSyncedToSocialMedia\"] == \"Yes\")\n",
    "    churn.loc[churn[\"AnnualIncomeClass\"] == \"Low Income\", \"AnnualIncomeClass\"] = 0\n",
    "    churn.loc[churn[\"AnnualIncomeClass\"] == \"Middle Income\", \"AnnualIncomeClass\"] = 1\n",
    "    churn.loc[churn[\"AnnualIncomeClass\"] == \"High Income\", \"AnnualIncomeClass\"] = 2\n",
    "    churn.AnnualIncomeClass = churn.AnnualIncomeClass.astype(int)\n",
    "    y_churn = churn.Target.to_numpy()\n",
    "    X_churn = churn.drop(\"Target\", axis=1)\n",
    "    X_churn = calculate_vif(X_churn).to_numpy()\n",
    "    return X_churn, np.expand_dims(y_churn, 1)"
   ]
  },
  {
   "cell_type": "markdown",
   "metadata": {},
   "source": [
    "### TODO:\n",
    "Some columns in X_challenger and X_jungle have only 0 values"
   ]
  },
  {
   "cell_type": "code",
   "execution_count": 5,
   "metadata": {
    "collapsed": true
   },
   "outputs": [
    {
     "name": "stdout",
     "output_type": "stream",
     "text": [
      "Remaining variables:\n",
      "Index(['JoiningYear', 'PaymentTier', 'Age', 'Gender', 'EverBenched',\n",
      "       'ExperienceInCurrentDomain', 'EducationBachelors', 'EducationMasters'],\n",
      "      dtype='object')\n",
      "dropping 'blueTotalLevel' at index: 2\n",
      "dropping 'blueKill' at index: 6\n",
      "dropping 'blueDeath' at index: 6\n",
      "dropping 'blueFirstTower' at index: 9\n",
      "dropping 'blueTowerKills' at index: 10\n",
      "dropping 'redTotalLevel' at index: 20\n",
      "dropping 'redFirstTower' at index: 29\n",
      "dropping 'redTowerKills' at index: 30\n",
      "dropping 'blueTotalGolds' at index: 0\n",
      "dropping 'redAvgLevel' at index: 19\n",
      "dropping 'redTotalGolds' at index: 17\n",
      "dropping 'redFirstDragon' at index: 31\n",
      "dropping 'blueAssist' at index: 5\n",
      "dropping 'redAssist' at index: 22\n",
      "dropping 'blueFirstInhibitor' at index: 7\n",
      "dropping 'redFirstInhibitor' at index: 23\n",
      "dropping 'blueTotalMinionKills' at index: 2\n",
      "dropping 'redDeath' at index: 19\n",
      "Remaining variables:\n",
      "Index(['blueCurrentGolds', 'blueAvgLevel', 'blueTotalJungleMinionKills',\n",
      "       'blueFirstBlood', 'blueWardPlaced', 'blueWardKills',\n",
      "       'blueMidTowerKills', 'blueTopTowerKills', 'blueBotTowerKills',\n",
      "       'blueInhibitor', 'blueFirstDragon', 'blueDragon', 'blueRiftHeralds',\n",
      "       'redWins', 'redCurrentGolds', 'redTotalMinionKills',\n",
      "       'redTotalJungleMinionKills', 'redFirstBlood', 'redKill',\n",
      "       'redWardPlaced', 'redWardKills', 'redMidTowerKills', 'redTopTowerKills',\n",
      "       'redBotTowerKills', 'redInhibitor', 'redDragon', 'redRiftHeralds',\n",
      "       'blueFirstTowerLane_BOT_LANE', 'blueFirstTowerLane_MID_LANE',\n",
      "       'blueFirstTowerLane_TOP_LANE', 'blueDragnoType_AIR_DRAGON',\n",
      "       'blueDragnoType_WATER_DRAGON', 'blueDragnoType_FIRE_DRAGON',\n",
      "       'blueDragnoType_EARTH_DRAGON', 'redFirstTowerLane_BOT_LANE',\n",
      "       'redFirstTowerLane_MID_LANE', 'redFirstTowerLane_TOP_LANE',\n",
      "       'redDragnoType_AIR_DRAGON', 'redDragnoType_WATER_DRAGON',\n",
      "       'redDragnoType_FIRE_DRAGON', 'redDragnoType_EARTH_DRAGON'],\n",
      "      dtype='object')\n",
      "dropping 'white_piece0_strength' at index: 0\n",
      "dropping 'white_piece0_rank' at index: 1\n",
      "dropping 'black_piece0_strength' at index: 15\n",
      "dropping 'black_piece0_rank' at index: 16\n",
      "dropping 'black_piece0_can_cross_shortest' at index: 25\n",
      "dropping 'black_piece0_distanceto_white_den' at index: 16\n",
      "dropping 'white_piece0_distanceto_black_den' at index: 2\n",
      "dropping 'white_unopposed_to_den' at index: 33\n",
      "dropping 'white_piece0_distanceto_white_den' at index: 1\n",
      "dropping 'black_piece0_distanceto_black_den' at index: 14\n",
      "dropping 'black_unopposed_to_den' at index: 31\n",
      "dropping 'white_piece0_can_cross_shortest' at index: 8\n",
      "dropping 'black_piece0_movesto_white_den' at index: 13\n",
      "dropping 'white_piece0_nextto_black_piece0' at index: 11\n",
      "dropping 'white_piece0_movesto_black_den' at index: 4\n",
      "dropping 'white_piece0_advanced_DEF' at index: 29\n",
      "dropping 'black_piece0_advanced_DEF' at index: 30\n",
      "Remaining variables:\n",
      "Index(['white_piece0_file', 'white_piece0_unopposedto_black_den_length',\n",
      "       'white_piece0_unopposedto_black_den_shortest',\n",
      "       'white_piece0_movesto_white_den', 'white_piece0_in_trap',\n",
      "       'white_piece0_in_water', 'white_piece0_can_cross',\n",
      "       'white_piece0_unopposed_to_bank',\n",
      "       'white_piece0_distanceto_black_piece0',\n",
      "       'white_piece0_distanceto_black_piece0_parity', 'black_piece0_file',\n",
      "       'black_piece0_movesto_black_den',\n",
      "       'black_piece0_unopposedto_white_den_length',\n",
      "       'black_piece0_unopposedto_white_den_shortest', 'black_piece0_in_trap',\n",
      "       'black_piece0_in_water', 'black_piece0_can_cross',\n",
      "       'black_piece0_unopposed_to_bank', 'black_piece0_at_d7',\n",
      "       'black_piece0_distanceto_white_piece0',\n",
      "       'black_piece0_distanceto_white_piece0_parity',\n",
      "       'black_piece0_nextto_white_piece0', 'highest_strength',\n",
      "       'closest_to_den', 'closest_to_den_diff', 'fastest_to_den',\n",
      "       'fastest_to_den_diff', 'white_unopposed_to_den_quick_detour',\n",
      "       'black_unopposed_to_den_quick_detour', 'white_piece0_advanced_MID',\n",
      "       'black_piece0_advanced_MID'],\n",
      "      dtype='object')\n",
      "Remaining variables:\n",
      "Index(['aluminium', 'ammonia', 'arsenic', 'barium', 'cadmium', 'chloramine',\n",
      "       'chromium', 'copper', 'flouride', 'bacteria', 'viruses', 'lead',\n",
      "       'nitrates', 'nitrites', 'mercury', 'perchlorate', 'radium', 'selenium',\n",
      "       'silver', 'uranium'],\n",
      "      dtype='object')\n",
      "Remaining variables:\n",
      "Index(['number of adults', 'number of children', 'number of weekend nights',\n",
      "       'number of week nights', 'car parking space', 'room type', 'lead time',\n",
      "       'market segment type', 'repeated', 'P-C', 'P-not-C', 'average price',\n",
      "       'special requests', 'type of meal_Meal Plan 1',\n",
      "       'type of meal_Meal Plan 2', 'type of meal_Meal Plan 3'],\n",
      "      dtype='object')\n",
      "Remaining variables:\n",
      "Index(['Age', 'FrequentFlyer', 'AnnualIncomeClass', 'ServicesOpted',\n",
      "       'AccountSyncedToSocialMedia', 'BookedHotelOrNot'],\n",
      "      dtype='object')\n"
     ]
    }
   ],
   "source": [
    "X_employee, y_employee = preprocess_employee('data/employee.csv')\n",
    "X_challenger, y_challenger = preprocess_challenger('data/challenger_lol.csv')\n",
    "X_jungle, y_jungle = preprocess_jungle('data/jungle_chess.arff')\n",
    "X_water, y_water = preprocess_water(\"data/water_quality.csv\")\n",
    "X_booking, y_booking = preprocess_booking(\"data/booking.csv\")\n",
    "X_churn, y_churn = preprocess_churn(\"data/churn.csv\")"
   ]
  },
  {
   "cell_type": "code",
   "execution_count": 33,
   "metadata": {},
   "outputs": [],
   "source": [
    "def log_likelihood(X, y, beta):\n",
    "    return -np.sum(X @ beta * y - np.log(1 + np.exp(X @ beta))) \n",
    "\n",
    "def calc_pi(X, beta):\n",
    "    exp = np.exp(X @ beta)\n",
    "    return exp / (1 + exp)\n",
    "\n",
    "def accuracy(true, pred):\n",
    "    return np.sum(1 - abs(true - pred)) / true.shape[0]"
   ]
  },
  {
   "cell_type": "code",
   "execution_count": 486,
   "metadata": {},
   "outputs": [],
   "source": [
    "def IWLS(X, y, n_iter=10, print_likeli=True):\n",
    "#     X = (X - np.mean(X, axis=0)) / np.std(X, axis=0)\n",
    "    X = np.concatenate((np.ones((X.shape[0], 1)), X), 1)\n",
    "    beta = np.linalg.inv(X.T @ X) @ X.T @ y\n",
    "    # beta = np.zeros((X.shape[1], 1))\n",
    "    pi = calc_pi(X, beta)\n",
    "    l_prev = log_likelihood(X, y, beta)\n",
    "#     if print_likeli:\n",
    "#         print(f\"Starting Log likelihood is: {l_prev}\")\n",
    "    l_vals = [l_prev]\n",
    "    for i in tqdm(range(n_iter), \"Iterations\"):\n",
    "        W = np.diag((pi * (1 - pi)).T[0])\n",
    "        beta = beta + np.linalg.inv(X.T @ W @ X) @ X.T @ (y - pi)\n",
    "        pi = calc_pi(X, beta)\n",
    "        l = log_likelihood(X, y, beta)\n",
    "        l_diff = abs(l - l_prev)\n",
    "        l_prev = l\n",
    "#         if print_likeli:\n",
    "#             print(f\"Log likelihood is: {l}\")\n",
    "        l_vals.append(l)\n",
    "#         if l_diff < 1:\n",
    "#             break\n",
    "    \n",
    "    return l_vals, beta, 1*(pi > 0.5)"
   ]
  },
  {
   "cell_type": "code",
   "execution_count": 491,
   "metadata": {},
   "outputs": [],
   "source": [
    "def GD(\n",
    "        X, \n",
    "        Y, \n",
    "        learning_rate, \n",
    "        n_epoch=1, \n",
    "        batch_size=1, \n",
    "        print_every=50, \n",
    "        print_likeli=True, \n",
    "        use_adam=True,\n",
    "        beta1 = 0.9,\n",
    "        beta2 = 0.999\n",
    "    ):\n",
    "    \"\"\"\n",
    "    Stochastic Gradient Descent with logistic loss for binary classification [0,1].\n",
    "    Print the loss values at interval of your choice.\n",
    "\n",
    "    Arguments:\n",
    "    X : Data matrix\n",
    "    Y : Labels\n",
    "    W : Weights, previously initialized outside the function\n",
    "    learning_rate : Float value of step size to take.\n",
    "    n_epoch : Maximum number of epochs, after which to stop\n",
    "    batch_size : Size of the batch to use for each iteration\n",
    "    print_every : if positive prints loss after every `record_every` iteration\n",
    "                  (1=record all losses), otherwise record nothing\n",
    "\n",
    "    Returns:\n",
    "    history : A list containing the loss value at each iteration\n",
    "    best_w : The best weights corresponding to the best loss value\n",
    "    \"\"\"\n",
    "    def make_batches(X, y, batch_size):\n",
    "        perm = np.random.permutation(len(y))\n",
    "        X_perm = X[perm, :]\n",
    "        y_perm = y[perm]\n",
    "        return np.array_split(X_perm, int(X_perm.shape[0]/batch_size)), np.array_split(y_perm, int(len(y_perm)/batch_size))\n",
    "    \n",
    "    def sigmoid(z):\n",
    "        \"\"\"\n",
    "        Sigmoid activation function.\n",
    "\n",
    "        Arguments:\n",
    "        z : Input scalar or batch of scalars\n",
    "\n",
    "        Returns:\n",
    "        activation : Sigmoid activation(s) on z\n",
    "        \"\"\"\n",
    "        activation = 1 / (1 + np.exp(-z))\n",
    "        return activation\n",
    "\n",
    "    def logistic_loss(preds, targets):\n",
    "        \"\"\"\n",
    "        Logistic loss function for binary classification.\n",
    "\n",
    "        Arguments:\n",
    "        preds : Predicted values\n",
    "        targets : Target values\n",
    "\n",
    "        Returns :\n",
    "        cost : The mean logistic loss value between preds and targets\n",
    "        \"\"\"\n",
    "        # mean logistic loss\n",
    "        eps = 1e-14\n",
    "        y = targets\n",
    "        y_hat = preds\n",
    "        cost = np.mean(-y*np.log(y_hat+eps)-(1-y)*np.log(1-y_hat+eps))\n",
    "        return cost\n",
    "\n",
    "    def dlogistic(preds, X, Y, W=[]):\n",
    "        \"\"\"\n",
    "        Gradient/derivative of the logistic loss.\n",
    "\n",
    "        Arguments:\n",
    "        preds : Predicted values\n",
    "        X : Input data matrix\n",
    "        Y : True target values\n",
    "        W : The weights, optional argument, may/may not be needed depending on the loss function\n",
    "        \"\"\"\n",
    "        y_pred = sigmoid(np.dot(W, X.T))\n",
    "        J = X.T @ (np.expand_dims(y_pred, 1)-Y)\n",
    "        \n",
    "        J = np.mean(J, axis=1)\n",
    "        return J\n",
    "\n",
    "    history = []  # to keep track of loss values\n",
    "    X = np.concatenate((np.ones((X.shape[0], 1)), X), 1)\n",
    "#     w_init = np.ones(X.shape[1])\n",
    "    w_init = (np.linalg.inv(X.T @ X) @ X.T @ y).T[0]\n",
    "    best_w = w_init.copy()\n",
    "    n_samples = X.shape[0]\n",
    "    log_like = log_likelihood(X, y, np.expand_dims(best_w, 1))\n",
    "    history.append(log_like)\n",
    "    \n",
    "    #ADAM initialization\n",
    "    M = np.zeros(len(w_init))\n",
    "    R = np.zeros(len(w_init))\n",
    "    t = 0\n",
    "    eps = 1e-8\n",
    "    \n",
    "#     if print_likeli:\n",
    "#         print(\"Minus log likelihood\", log_like)\n",
    "    for i in tqdm(range(n_epoch), \"Epochs\"):\n",
    "        batches = make_batches(X, y, batch_size)\n",
    "        for j in range(len(batches[0])):\n",
    "            t += 1\n",
    "            X_sample = batches[0][j]\n",
    "            Y_sample = batches[1][j]\n",
    "\n",
    "            # compute y_hat (preds) and then loss (L)\n",
    "            # sigmoid, probability of class 1\n",
    "            preds = 1 / (1 + np.exp(-np.dot(best_w, X_sample.T)))\n",
    "\n",
    "            # compute loss gradient (J) and update weights\n",
    "            J = dlogistic(preds, X_sample, Y_sample, W=best_w)\n",
    "            if use_adam:\n",
    "                M = beta1 * M + (1 - beta1) * J\n",
    "                R = beta2 * R + (1 - beta2) * (J**2)\n",
    "\n",
    "                M_bias = M / (1 - beta1**t)\n",
    "                R_bias = R / (1 - beta2**t)\n",
    "\n",
    "                best_w = best_w - learning_rate * (M_bias / np.sqrt(R_bias + eps))\n",
    "            else:\n",
    "                best_w = best_w - learning_rate*J\n",
    "        log_like = log_likelihood(X, y, np.expand_dims(best_w, 1))\n",
    "        history.append(log_like)\n",
    "#         if print_likeli:\n",
    "#             print(\"Minus log likelihood\", log_like)\n",
    "    pi = X @ best_w\n",
    "    return history, best_w, 1*(np.expand_dims(pi, 1) > 0.5)"
   ]
  },
  {
   "cell_type": "markdown",
   "metadata": {},
   "source": [
    "## Input data"
   ]
  },
  {
   "cell_type": "code",
   "execution_count": 492,
   "metadata": {},
   "outputs": [],
   "source": [
    "X, y = X_churn, y_churn"
   ]
  },
  {
   "cell_type": "markdown",
   "metadata": {},
   "source": [
    "## IWLS"
   ]
  },
  {
   "cell_type": "code",
   "execution_count": 493,
   "metadata": {},
   "outputs": [
    {
     "name": "stderr",
     "output_type": "stream",
     "text": [
      "Iterations: 100%|███████████████████████████████████████████████████████████████████| 100/100 [00:00<00:00, 224.05it/s]\n"
     ]
    }
   ],
   "source": [
    "l_iwls_vals, best_beta_iwls, best_iwls_preds = IWLS(X, y, n_iter=100)"
   ]
  },
  {
   "cell_type": "markdown",
   "metadata": {},
   "source": [
    "## Stochastic Gradient Descend"
   ]
  },
  {
   "cell_type": "code",
   "execution_count": 494,
   "metadata": {},
   "outputs": [
    {
     "name": "stderr",
     "output_type": "stream",
     "text": [
      "Epochs: 100%|████████████████████████████████████████████████████████████████████████| 100/100 [00:03<00:00, 28.11it/s]\n"
     ]
    }
   ],
   "source": [
    "l_sgd_vals, best_beta_gd, best_sgd_preds = GD(X, y, 0.0002, n_epoch=100, use_adam=False)"
   ]
  },
  {
   "cell_type": "markdown",
   "metadata": {},
   "source": [
    "## SDA with ADAM optimization"
   ]
  },
  {
   "cell_type": "code",
   "execution_count": 496,
   "metadata": {},
   "outputs": [
    {
     "name": "stderr",
     "output_type": "stream",
     "text": [
      "Epochs: 100%|████████████████████████████████████████████████████████████████████████| 100/100 [00:04<00:00, 21.26it/s]\n"
     ]
    }
   ],
   "source": [
    "l_adam_vals, best_beta_adam, best_adam_preds = GD(X, y, 0.0002, n_epoch=100)"
   ]
  },
  {
   "cell_type": "code",
   "execution_count": 497,
   "metadata": {},
   "outputs": [],
   "source": [
    "gd_acc = balanced_accuracy_score(y, best_sgd_preds)\n",
    "iwls_acc = balanced_accuracy_score(y, best_iwls_preds)\n",
    "adam_acc = balanced_accuracy_score(y, best_adam_preds)\n",
    "\n",
    "# model = LogisticRegression(penalty=\"none\")\n",
    "model = LogisticRegression()\n",
    "model.fit(X, y.T[0])\n",
    "model_preds = model.predict(X)\n",
    "scikit_acc = balanced_accuracy_score(y, np.expand_dims(model_preds, 1))"
   ]
  },
  {
   "cell_type": "code",
   "execution_count": 498,
   "metadata": {
    "scrolled": true
   },
   "outputs": [
    {
     "name": "stdout",
     "output_type": "stream",
     "text": [
      "Balanced accuracy of GD without optimizer is: 0.5030944227005871\n",
      "Balanced accuracy of SGD with ADAM is: 0.5709454500978474\n",
      "Balanced accuracy of IWLS is: 0.6743823385518591\n",
      "Balanced accuracy of LR from Scikit is 0.6697407045009784\n"
     ]
    }
   ],
   "source": [
    "print(f\"Balanced accuracy of GD without optimizer is: {gd_acc}\")\n",
    "print(f\"Balanced accuracy of SGD with ADAM is: {adam_acc}\")\n",
    "print(f\"Balanced accuracy of IWLS is: {iwls_acc}\")\n",
    "print(f\"Balanced accuracy of LR from Scikit is {scikit_acc}\")"
   ]
  },
  {
   "cell_type": "code",
   "execution_count": 499,
   "metadata": {},
   "outputs": [
    {
     "data": {
      "image/png": "[encoded data removed]",
      "text/plain": [
       "<Figure size 1080x576 with 1 Axes>"
      ]
     },
     "metadata": {
      "needs_background": "light"
     },
     "output_type": "display_data"
    }
   ],
   "source": [
    "plt.figure(figsize=(15, 8))\n",
    "plt.plot(np.linspace(1, len(l_iwls_vals), len(l_iwls_vals)), l_iwls_vals, label=\"IWLS\")\n",
    "plt.plot(np.linspace(1, len(l_sgd_vals), len(l_sgd_vals)), l_sgd_vals, label=\"SGD\")\n",
    "plt.plot(np.linspace(1, len(l_adam_vals), len(l_adam_vals)), l_adam_vals, label=\"ADAM\")\n",
    "plt.legend()\n",
    "plt.rc('xtick', labelsize=10)\n",
    "plt.rc('ytick', labelsize=10)\n",
    "plt.rc('legend', fontsize=15)\n",
    "plt.xlabel(\"Iterations\", fontsize=20)\n",
    "plt.ylabel(\"Log loss\", fontsize=20)\n",
    "plt.title(\"Comparison between models\", fontsize=20)\n",
    "plt.show()"
   ]
  },
  {
   "cell_type": "markdown",
   "metadata": {},
   "source": [
    "### Data generated from logistic model"
   ]
  },
  {
   "cell_type": "code",
   "execution_count": 500,
   "metadata": {},
   "outputs": [],
   "source": [
    "beta1 = 2\n",
    "\n",
    "n1 = 1000\n",
    "x1 = np.random.exponential(1, size=n1)\n",
    "\n",
    "n2 = 1000\n",
    "x2 = np.random.exponential(1/(beta1+1), size=n2)\n",
    "\n",
    "X = np.expand_dims(np.concatenate((x1, x2), axis=0), axis=1)\n",
    "y = np.expand_dims(np.concatenate((np.ones((1, n1)), np.zeros((1, n2))), axis=1)[0], 1)"
   ]
  },
  {
   "cell_type": "code",
   "execution_count": 501,
   "metadata": {},
   "outputs": [],
   "source": [
    "pi = n1 / (n1 + n2)\n",
    "b0 = -np.log((1 + beta1) * ((1-pi)/pi))"
   ]
  },
  {
   "cell_type": "code",
   "execution_count": 502,
   "metadata": {},
   "outputs": [
    {
     "name": "stderr",
     "output_type": "stream",
     "text": [
      "Iterations: 100%|████████████████████████████████████████████████████████████████████| 100/100 [00:01<00:00, 77.26it/s]\n",
      "Epochs: 100%|████████████████████████████████████████████████████████████████████████| 200/200 [00:15<00:00, 12.99it/s]\n",
      "Epochs: 100%|████████████████████████████████████████████████████████████████████████| 200/200 [00:24<00:00,  8.01it/s]\n"
     ]
    }
   ],
   "source": [
    "l_iwls_vals, best_beta_iwls, best_iwls_preds = IWLS(X, y, n_iter=100, print_likeli=False)\n",
    "l_sgd_vals, best_beta_gd, best_sgd_preds = GD(X, y, 0.0002, n_epoch=200, print_likeli=False, use_adam=False)\n",
    "l_adam_vals, best_beta_adam, best_adam_preds = GD(X, y, 0.0002, n_epoch=200, print_likeli=False)"
   ]
  },
  {
   "cell_type": "code",
   "execution_count": 503,
   "metadata": {},
   "outputs": [
    {
     "name": "stdout",
     "output_type": "stream",
     "text": [
      "Theoretical betas: b0: -1.0986122886681098, b1: 2\n",
      "Empirical betas for SGD without optimizers: b0: -1.1110910633473996, b1: 1.9470987003455906\n",
      "Empirical betas for SGD with ADAM: b0: -1.2054752926001877, b1: 2.116966060034407\n",
      "Empirical betas for IWLS: b0: -1.2014203715520715, b1: 2.113029607348644\n"
     ]
    }
   ],
   "source": [
    "print(f\"Theoretical betas: b0: {b0}, b1: {beta1}\" )\n",
    "print(f\"Empirical betas for SGD without optimizers: b0: {best_beta_gd[0]}, b1: {best_beta_gd[1]}\")\n",
    "print(f\"Empirical betas for SGD with ADAM: b0: {best_beta_adam[0]}, b1: {best_beta_adam[1]}\")\n",
    "print(f\"Empirical betas for IWLS: b0: {best_beta_iwls[0][0]}, b1: {best_beta_iwls[1][0]}\")"
   ]
  },
  {
   "cell_type": "code",
   "execution_count": null,
   "metadata": {},
   "outputs": [],
   "source": []
  }
 ],
 "metadata": {
  "kernelspec": {
   "display_name": "Python 3",
   "language": "python",
   "name": "python3"
  },
  "language_info": {
   "codemirror_mode": {
    "name": "ipython",
    "version": 3
   },
   "file_extension": ".py",
   "mimetype": "text/x-python",
   "name": "python",
   "nbconvert_exporter": "python",
   "pygments_lexer": "ipython3",
   "version": "3.8.3"
  }
 },
 "nbformat": 4,
 "nbformat_minor": 5
}

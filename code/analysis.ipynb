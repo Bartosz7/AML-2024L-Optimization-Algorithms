{
 "cells": [
  {
   "cell_type": "markdown",
   "metadata": {},
   "source": [
    "# Analysis on ALL datasets"
   ]
  },
  {
   "cell_type": "code",
   "execution_count": 1,
   "metadata": {},
   "outputs": [],
   "source": [
    "import numpy as np\n",
    "from datasets import DATASETS, load_dataset\n",
    "from optim import GD, ADAM, IWLS"
   ]
  },
  {
   "cell_type": "code",
   "execution_count": 2,
   "metadata": {},
   "outputs": [],
   "source": [
    "from utils.train_functions import cv\n",
    "from utils.plots import (\n",
    "    plot_figures_for_cv,\n",
    "    plot_acc_boxplots\n",
    ")"
   ]
  },
  {
   "cell_type": "code",
   "execution_count": 3,
   "metadata": {},
   "outputs": [],
   "source": [
    "from datasets.preprocess_helpers import split_with_preprocess"
   ]
  },
  {
   "cell_type": "code",
   "execution_count": 4,
   "metadata": {},
   "outputs": [],
   "source": [
    "# load and preprocess all datasets\n",
    "loaded_datasets = {dataset.name: load_dataset(dataset) for dataset in DATASETS}"
   ]
  },
  {
   "cell_type": "code",
   "execution_count": 10,
   "metadata": {},
   "outputs": [
    {
     "name": "stdout",
     "output_type": "stream",
     "text": [
      "   booking status  proportion\n",
      "0               0    0.672344\n",
      "1               1    0.327656\n",
      "   Target  proportion\n",
      "0       0    0.765199\n",
      "1       1    0.234801\n",
      "   class  proportion\n",
      "0      0    0.651042\n",
      "1      1    0.348958\n",
      "   blueWins  proportion\n",
      "0         1    0.500186\n",
      "1         0    0.499814\n",
      "   class  proportion\n",
      "0      1    0.553411\n",
      "1      0    0.446589\n",
      "   class  proportion\n",
      "0      0    0.641026\n",
      "1      1    0.358974\n",
      "  is_safe  proportion\n",
      "0       0    0.885611\n",
      "1       1    0.114014\n",
      "2   #NUM!    0.000375\n",
      "   class  proportion\n",
      "0      0    0.666667\n",
      "1      1    0.333333\n",
      "   class  proportion\n",
      "0      1    0.533654\n",
      "1      0    0.466346\n"
     ]
    }
   ],
   "source": [
    "import pandas as pd\n",
    "\n",
    "# Create an empty dataframe to store the class proportions\n",
    "class_proportions_df = pd.DataFrame(columns=['Dataset', 'Class 0 (%)', 'Class 1 (%)'])\n",
    "\n",
    "\n",
    "for dataset_name, dataset in loaded_datasets.items():\n",
    "    df = dataset.df\n",
    "    target_colname = dataset.target_colname\n",
    "    print(df[target_colname].value_counts(normalize=True).reset_index())\n",
    "   "
   ]
  },
  {
   "cell_type": "code",
   "execution_count": 6,
   "metadata": {},
   "outputs": [
    {
     "name": "stdout",
     "output_type": "stream",
     "text": [
      "booking booking status\n",
      "0    0.672344\n",
      "1    0.327656\n",
      "Name: proportion, dtype: float64\n",
      "churn Target\n",
      "0    0.765199\n",
      "1    0.234801\n",
      "Name: proportion, dtype: float64\n",
      "diabetes class\n",
      "0    0.651042\n",
      "1    0.348958\n",
      "Name: proportion, dtype: float64\n",
      "challenger_lol blueWins\n",
      "1    0.500186\n",
      "0    0.499814\n",
      "Name: proportion, dtype: float64\n",
      "jungle class\n",
      "1    0.553411\n",
      "0    0.446589\n",
      "Name: proportion, dtype: float64\n",
      "ionosphere class\n",
      "0    0.641026\n",
      "1    0.358974\n",
      "Name: proportion, dtype: float64\n",
      "water is_safe\n",
      "0        0.885611\n",
      "1        0.114014\n",
      "#NUM!    0.000375\n",
      "Name: proportion, dtype: float64\n",
      "seeds class\n",
      "0    0.666667\n",
      "1    0.333333\n",
      "Name: proportion, dtype: float64\n",
      "sonar class\n",
      "1    0.533654\n",
      "0    0.466346\n",
      "Name: proportion, dtype: float64\n"
     ]
    }
   ],
   "source": [
    "# compute target class imbalance for every dataset\n",
    "for dataset in DATASETS:\n",
    "    dataset = loaded_datasets[dataset.name]\n",
    "    target_colname = dataset.target_colname\n",
    "    print(dataset.name, dataset.df[target_colname].value_counts(normalize=True))"
   ]
  },
  {
   "cell_type": "code",
   "execution_count": 12,
   "metadata": {},
   "outputs": [
    {
     "name": "stdout",
     "output_type": "stream",
     "text": [
      "CV split 1\n",
      "Removing multicolinear columns in booking dataset...\n",
      "Finished\n"
     ]
    },
    {
     "name": "stderr",
     "output_type": "stream",
     "text": [
      "IWLS:   2%|▏         | 11/500 [00:04<03:23,  2.40it/s]\n",
      "SGD:   7%|▋         | 37/500 [00:23<04:56,  1.56it/s]\n",
      "ADAM:   8%|▊         | 42/500 [00:34<06:16,  1.22it/s]\n"
     ]
    },
    {
     "name": "stdout",
     "output_type": "stream",
     "text": [
      "CV split 2\n",
      "Removing multicolinear columns in booking dataset...\n",
      "Finished\n"
     ]
    },
    {
     "name": "stderr",
     "output_type": "stream",
     "text": [
      "IWLS:   2%|▏         | 11/500 [00:04<03:18,  2.46it/s]\n",
      "SGD:   9%|▉         | 44/500 [00:25<04:28,  1.70it/s]\n",
      "ADAM:   7%|▋         | 35/500 [00:28<06:25,  1.21it/s]\n"
     ]
    },
    {
     "name": "stdout",
     "output_type": "stream",
     "text": [
      "CV split 3\n",
      "Removing multicolinear columns in booking dataset...\n",
      "Finished\n"
     ]
    },
    {
     "name": "stderr",
     "output_type": "stream",
     "text": [
      "IWLS:   2%|▏         | 11/500 [00:04<03:19,  2.46it/s]\n",
      "SGD:   9%|▉         | 44/500 [00:25<04:28,  1.70it/s]\n",
      "ADAM:   7%|▋         | 35/500 [00:29<06:29,  1.20it/s]\n"
     ]
    },
    {
     "name": "stdout",
     "output_type": "stream",
     "text": [
      "CV split 4\n",
      "Removing multicolinear columns in booking dataset...\n",
      "Finished\n"
     ]
    },
    {
     "name": "stderr",
     "output_type": "stream",
     "text": [
      "IWLS:   2%|▏         | 11/500 [00:04<03:15,  2.50it/s]\n",
      "SGD:   9%|▉         | 44/500 [00:25<04:28,  1.70it/s]\n",
      "ADAM:   7%|▋         | 35/500 [00:28<06:24,  1.21it/s]\n"
     ]
    },
    {
     "name": "stdout",
     "output_type": "stream",
     "text": [
      "CV split 5\n",
      "Removing multicolinear columns in booking dataset...\n",
      "Finished\n"
     ]
    },
    {
     "name": "stderr",
     "output_type": "stream",
     "text": [
      "IWLS:   2%|▏         | 11/500 [00:04<03:13,  2.52it/s]\n",
      "SGD:   9%|▉         | 44/500 [00:26<04:29,  1.69it/s]\n",
      "ADAM:   7%|▋         | 35/500 [00:28<06:22,  1.22it/s]\n"
     ]
    },
    {
     "name": "stdout",
     "output_type": "stream",
     "text": [
      "CV split 1\n",
      "Removing multicolinear columns in churn dataset...\n",
      "Finished\n"
     ]
    },
    {
     "name": "stderr",
     "output_type": "stream",
     "text": [
      "IWLS:   2%|▏         | 8/500 [00:00<00:00, 629.47it/s]\n",
      "SGD:  43%|████▎     | 213/500 [00:03<00:04, 66.43it/s]\n",
      "ADAM:  22%|██▏       | 109/500 [00:02<00:08, 46.27it/s]\n"
     ]
    },
    {
     "name": "stdout",
     "output_type": "stream",
     "text": [
      "CV split 2\n",
      "Removing multicolinear columns in churn dataset...\n",
      "Finished\n"
     ]
    },
    {
     "name": "stderr",
     "output_type": "stream",
     "text": [
      "IWLS:   2%|▏         | 8/500 [00:00<00:00, 1748.81it/s]\n",
      "SGD:  39%|███▉      | 197/500 [00:02<00:04, 67.11it/s]\n",
      "ADAM:  20%|█▉        | 99/500 [00:02<00:09, 43.57it/s]\n"
     ]
    },
    {
     "name": "stdout",
     "output_type": "stream",
     "text": [
      "CV split 3\n",
      "Removing multicolinear columns in churn dataset...\n",
      "Finished\n"
     ]
    },
    {
     "name": "stderr",
     "output_type": "stream",
     "text": [
      "IWLS:   2%|▏         | 8/500 [00:00<00:00, 1837.69it/s]\n",
      "SGD:  44%|████▍     | 219/500 [00:03<00:04, 64.72it/s]\n",
      "ADAM:  22%|██▏       | 111/500 [00:02<00:08, 46.56it/s]\n"
     ]
    },
    {
     "name": "stdout",
     "output_type": "stream",
     "text": [
      "CV split 4\n",
      "Removing multicolinear columns in churn dataset...\n",
      "Finished\n"
     ]
    },
    {
     "name": "stderr",
     "output_type": "stream",
     "text": [
      "IWLS:   2%|▏         | 8/500 [00:00<00:00, 1605.78it/s]\n",
      "SGD:  41%|████      | 206/500 [00:03<00:04, 65.53it/s]\n",
      "ADAM:  21%|██        | 105/500 [00:02<00:08, 44.34it/s]\n"
     ]
    },
    {
     "name": "stdout",
     "output_type": "stream",
     "text": [
      "CV split 5\n",
      "Removing multicolinear columns in churn dataset...\n",
      "Finished\n"
     ]
    },
    {
     "name": "stderr",
     "output_type": "stream",
     "text": [
      "IWLS:   2%|▏         | 8/500 [00:00<00:00, 771.90it/s]\n",
      "SGD:  42%|████▏     | 212/500 [00:03<00:04, 67.95it/s]\n",
      "ADAM:  22%|██▏       | 108/500 [00:02<00:08, 47.82it/s]\n"
     ]
    },
    {
     "name": "stdout",
     "output_type": "stream",
     "text": [
      "CV split 1\n",
      "Removing multicolinear columns in diabetes dataset...\n",
      "Finished\n"
     ]
    },
    {
     "name": "stderr",
     "output_type": "stream",
     "text": [
      "IWLS:   2%|▏         | 8/500 [00:00<00:00, 831.01it/s]\n",
      "SGD:  36%|███▌      | 181/500 [00:02<00:03, 79.89it/s]\n",
      "ADAM:  19%|█▉        | 96/500 [00:01<00:07, 57.37it/s]\n"
     ]
    },
    {
     "name": "stdout",
     "output_type": "stream",
     "text": [
      "CV split 2\n",
      "Removing multicolinear columns in diabetes dataset...\n",
      "Finished\n"
     ]
    },
    {
     "name": "stderr",
     "output_type": "stream",
     "text": [
      "IWLS:   2%|▏         | 8/500 [00:00<00:00, 1467.18it/s]\n",
      "SGD:  37%|███▋      | 187/500 [00:02<00:04, 71.84it/s]\n",
      "ADAM:  19%|█▉        | 94/500 [00:01<00:07, 57.79it/s]\n"
     ]
    },
    {
     "name": "stdout",
     "output_type": "stream",
     "text": [
      "CV split 3\n",
      "Removing multicolinear columns in diabetes dataset...\n",
      "Finished\n"
     ]
    },
    {
     "name": "stderr",
     "output_type": "stream",
     "text": [
      "IWLS:   2%|▏         | 8/500 [00:00<00:00, 1090.53it/s]\n",
      "SGD:  38%|███▊      | 190/500 [00:02<00:03, 84.38it/s]\n",
      "ADAM:  19%|█▉        | 94/500 [00:01<00:06, 58.05it/s]\n"
     ]
    },
    {
     "name": "stdout",
     "output_type": "stream",
     "text": [
      "CV split 4\n",
      "Removing multicolinear columns in diabetes dataset...\n",
      "Finished\n"
     ]
    },
    {
     "name": "stderr",
     "output_type": "stream",
     "text": [
      "IWLS:   2%|▏         | 8/500 [00:00<00:00, 1337.58it/s]\n",
      "SGD:  35%|███▌      | 175/500 [00:02<00:03, 82.48it/s]\n",
      "ADAM:  18%|█▊        | 92/500 [00:01<00:07, 57.83it/s]\n"
     ]
    },
    {
     "name": "stdout",
     "output_type": "stream",
     "text": [
      "CV split 5\n",
      "Removing multicolinear columns in diabetes dataset...\n",
      "Finished\n"
     ]
    },
    {
     "name": "stderr",
     "output_type": "stream",
     "text": [
      "IWLS:   2%|▏         | 8/500 [00:00<00:00, 947.06it/s]\n",
      "SGD:  37%|███▋      | 183/500 [00:02<00:03, 83.28it/s]\n",
      "ADAM:  18%|█▊        | 90/500 [00:01<00:07, 57.46it/s]\n"
     ]
    },
    {
     "name": "stdout",
     "output_type": "stream",
     "text": [
      "CV split 1\n",
      "Removing multicolinear columns in challenger_lol dataset...\n",
      "Finished\n"
     ]
    },
    {
     "name": "stderr",
     "output_type": "stream",
     "text": [
      "IWLS:   3%|▎         | 16/500 [00:04<02:06,  3.83it/s]\n",
      "SGD: 100%|██████████| 500/500 [03:36<00:00,  2.31it/s]\n",
      "ADAM:   2%|▏         | 12/500 [00:07<05:24,  1.50it/s]\n"
     ]
    },
    {
     "name": "stdout",
     "output_type": "stream",
     "text": [
      "CV split 2\n",
      "Removing multicolinear columns in challenger_lol dataset...\n",
      "Finished\n"
     ]
    },
    {
     "name": "stderr",
     "output_type": "stream",
     "text": [
      "IWLS:   3%|▎         | 16/500 [00:04<02:06,  3.82it/s]\n",
      "SGD: 100%|██████████| 500/500 [03:35<00:00,  2.32it/s]\n",
      "ADAM:   2%|▏         | 12/500 [00:07<05:20,  1.52it/s]\n"
     ]
    },
    {
     "name": "stdout",
     "output_type": "stream",
     "text": [
      "CV split 3\n",
      "Removing multicolinear columns in challenger_lol dataset...\n",
      "Finished\n"
     ]
    },
    {
     "name": "stderr",
     "output_type": "stream",
     "text": [
      "IWLS:   3%|▎         | 16/500 [00:04<02:06,  3.82it/s]\n",
      "SGD: 100%|██████████| 500/500 [03:36<00:00,  2.31it/s]\n",
      "ADAM:   2%|▏         | 12/500 [00:07<05:18,  1.53it/s]\n"
     ]
    },
    {
     "name": "stdout",
     "output_type": "stream",
     "text": [
      "CV split 4\n",
      "Removing multicolinear columns in challenger_lol dataset...\n",
      "Finished\n"
     ]
    },
    {
     "name": "stderr",
     "output_type": "stream",
     "text": [
      "IWLS:   3%|▎         | 16/500 [00:04<02:06,  3.83it/s]\n",
      "SGD: 100%|██████████| 500/500 [03:37<00:00,  2.30it/s]\n",
      "ADAM:   2%|▏         | 12/500 [00:08<05:29,  1.48it/s]\n"
     ]
    },
    {
     "name": "stdout",
     "output_type": "stream",
     "text": [
      "CV split 5\n",
      "Removing multicolinear columns in challenger_lol dataset...\n",
      "Finished\n"
     ]
    },
    {
     "name": "stderr",
     "output_type": "stream",
     "text": [
      "IWLS:   3%|▎         | 16/500 [00:04<02:11,  3.67it/s]\n",
      "SGD: 100%|██████████| 500/500 [03:40<00:00,  2.27it/s]\n",
      "ADAM:   2%|▏         | 12/500 [00:08<05:27,  1.49it/s]\n"
     ]
    },
    {
     "name": "stdout",
     "output_type": "stream",
     "text": [
      "CV split 1\n",
      "Removing multicolinear columns in jungle dataset...\n",
      "Finished\n"
     ]
    },
    {
     "name": "stderr",
     "output_type": "stream",
     "text": [
      "IWLS:   3%|▎         | 14/500 [00:00<00:05, 82.58it/s]\n",
      "SGD: 100%|██████████| 500/500 [00:43<00:00, 11.60it/s]\n",
      "ADAM:  66%|██████▌   | 329/500 [00:40<00:21,  8.10it/s]\n"
     ]
    },
    {
     "name": "stdout",
     "output_type": "stream",
     "text": [
      "CV split 2\n",
      "Removing multicolinear columns in jungle dataset...\n",
      "Finished\n"
     ]
    },
    {
     "name": "stderr",
     "output_type": "stream",
     "text": [
      "IWLS:   3%|▎         | 14/500 [00:00<00:06, 77.75it/s]\n",
      "SGD: 100%|██████████| 500/500 [00:42<00:00, 11.71it/s]\n",
      "ADAM:  80%|████████  | 400/500 [00:49<00:12,  8.08it/s]\n"
     ]
    },
    {
     "name": "stdout",
     "output_type": "stream",
     "text": [
      "CV split 3\n",
      "Removing multicolinear columns in jungle dataset...\n",
      "Finished\n"
     ]
    },
    {
     "name": "stderr",
     "output_type": "stream",
     "text": [
      "IWLS:   3%|▎         | 14/500 [00:00<00:05, 82.33it/s]\n",
      "SGD: 100%|██████████| 500/500 [00:42<00:00, 11.72it/s]\n",
      "ADAM:  63%|██████▎   | 317/500 [00:38<00:22,  8.16it/s]\n"
     ]
    },
    {
     "name": "stdout",
     "output_type": "stream",
     "text": [
      "CV split 4\n",
      "Removing multicolinear columns in jungle dataset...\n",
      "Finished\n"
     ]
    },
    {
     "name": "stderr",
     "output_type": "stream",
     "text": [
      "IWLS:   4%|▎         | 18/500 [00:00<00:05, 82.67it/s]\n",
      "SGD: 100%|██████████| 500/500 [00:42<00:00, 11.72it/s]\n",
      "ADAM:  94%|█████████▍| 471/500 [00:57<00:03,  8.17it/s]\n"
     ]
    },
    {
     "name": "stdout",
     "output_type": "stream",
     "text": [
      "CV split 5\n",
      "Removing multicolinear columns in jungle dataset...\n",
      "Finished\n"
     ]
    },
    {
     "name": "stderr",
     "output_type": "stream",
     "text": [
      "IWLS:   3%|▎         | 14/500 [00:00<00:06, 78.31it/s]\n",
      "SGD: 100%|██████████| 500/500 [00:43<00:00, 11.39it/s]\n",
      "ADAM:  79%|███████▊  | 393/500 [00:51<00:14,  7.61it/s]\n"
     ]
    },
    {
     "name": "stdout",
     "output_type": "stream",
     "text": [
      "CV split 1\n",
      "Removing multicolinear columns in ionosphere dataset...\n",
      "Finished\n"
     ]
    },
    {
     "name": "stderr",
     "output_type": "stream",
     "text": [
      "IWLS:   3%|▎         | 13/500 [00:00<00:00, 3865.44it/s]\n",
      "SGD: 100%|██████████| 500/500 [00:02<00:00, 171.56it/s]\n",
      "ADAM:  93%|█████████▎| 464/500 [00:03<00:00, 123.27it/s]\n"
     ]
    },
    {
     "name": "stdout",
     "output_type": "stream",
     "text": [
      "CV split 2\n",
      "Removing multicolinear columns in ionosphere dataset...\n",
      "Finished\n"
     ]
    },
    {
     "name": "stderr",
     "output_type": "stream",
     "text": [
      "IWLS:   3%|▎         | 13/500 [00:00<00:00, 4609.51it/s]\n",
      "SGD: 100%|██████████| 500/500 [00:02<00:00, 173.91it/s]\n",
      "ADAM: 100%|██████████| 500/500 [00:04<00:00, 118.99it/s]\n"
     ]
    },
    {
     "name": "stdout",
     "output_type": "stream",
     "text": [
      "CV split 3\n",
      "Removing multicolinear columns in ionosphere dataset...\n",
      "Finished\n"
     ]
    },
    {
     "name": "stderr",
     "output_type": "stream",
     "text": [
      "IWLS:   2%|▏         | 12/500 [00:00<00:00, 3756.93it/s]\n",
      "SGD: 100%|██████████| 500/500 [00:02<00:00, 170.13it/s]\n",
      "ADAM:  95%|█████████▍| 473/500 [00:03<00:00, 122.27it/s]\n"
     ]
    },
    {
     "name": "stdout",
     "output_type": "stream",
     "text": [
      "CV split 4\n",
      "Removing multicolinear columns in ionosphere dataset...\n",
      "Finished\n"
     ]
    },
    {
     "name": "stderr",
     "output_type": "stream",
     "text": [
      "IWLS:   2%|▏         | 12/500 [00:00<00:00, 4147.98it/s]\n",
      "SGD: 100%|██████████| 500/500 [00:02<00:00, 176.21it/s]\n",
      "ADAM:  94%|█████████▍| 471/500 [00:03<00:00, 120.76it/s]\n"
     ]
    },
    {
     "name": "stdout",
     "output_type": "stream",
     "text": [
      "CV split 5\n",
      "Removing multicolinear columns in ionosphere dataset...\n",
      "Finished\n"
     ]
    },
    {
     "name": "stderr",
     "output_type": "stream",
     "text": [
      "IWLS:   2%|▏         | 12/500 [00:00<00:00, 2380.53it/s]\n",
      "SGD: 100%|██████████| 500/500 [00:02<00:00, 172.62it/s]\n",
      "ADAM:  96%|█████████▌| 480/500 [00:03<00:00, 125.19it/s]\n"
     ]
    },
    {
     "name": "stdout",
     "output_type": "stream",
     "text": [
      "CV split 1\n",
      "Removing multicolinear columns in water dataset...\n",
      "Finished\n"
     ]
    },
    {
     "name": "stderr",
     "output_type": "stream",
     "text": [
      "IWLS:   2%|▏         | 10/500 [00:00<00:13, 35.14it/s]\n",
      "SGD:  26%|██▋       | 132/500 [00:22<01:01,  6.00it/s]\n",
      "ADAM:   9%|▉         | 44/500 [00:09<01:42,  4.46it/s]\n"
     ]
    },
    {
     "name": "stdout",
     "output_type": "stream",
     "text": [
      "CV split 2\n",
      "Removing multicolinear columns in water dataset...\n",
      "Finished\n"
     ]
    },
    {
     "name": "stderr",
     "output_type": "stream",
     "text": [
      "IWLS:   2%|▏         | 10/500 [00:00<00:14, 33.83it/s]\n",
      "SGD:  24%|██▍       | 120/500 [00:19<01:01,  6.15it/s]\n",
      "ADAM:   8%|▊         | 41/500 [00:09<01:44,  4.38it/s]\n"
     ]
    },
    {
     "name": "stdout",
     "output_type": "stream",
     "text": [
      "CV split 3\n",
      "Removing multicolinear columns in water dataset...\n",
      "Finished\n"
     ]
    },
    {
     "name": "stderr",
     "output_type": "stream",
     "text": [
      "IWLS:   2%|▏         | 10/500 [00:00<00:14, 34.06it/s]\n",
      "SGD:  26%|██▌       | 130/500 [00:20<00:58,  6.31it/s]\n",
      "ADAM:   9%|▉         | 44/500 [00:09<01:41,  4.51it/s]\n"
     ]
    },
    {
     "name": "stdout",
     "output_type": "stream",
     "text": [
      "CV split 4\n",
      "Removing multicolinear columns in water dataset...\n",
      "Finished\n"
     ]
    },
    {
     "name": "stderr",
     "output_type": "stream",
     "text": [
      "IWLS:   2%|▏         | 10/500 [00:00<00:14, 34.98it/s]\n",
      "SGD:  26%|██▌       | 130/500 [00:20<00:59,  6.25it/s]\n",
      "ADAM:   9%|▉         | 45/500 [00:10<01:42,  4.45it/s]\n"
     ]
    },
    {
     "name": "stdout",
     "output_type": "stream",
     "text": [
      "CV split 5\n",
      "Removing multicolinear columns in water dataset...\n",
      "Finished\n"
     ]
    },
    {
     "name": "stderr",
     "output_type": "stream",
     "text": [
      "IWLS:   2%|▏         | 10/500 [00:00<00:14, 34.77it/s]\n",
      "SGD:  26%|██▌       | 130/500 [00:20<00:59,  6.27it/s]\n",
      "ADAM:   9%|▊         | 43/500 [00:09<01:41,  4.50it/s]\n"
     ]
    },
    {
     "name": "stdout",
     "output_type": "stream",
     "text": [
      "CV split 1\n",
      "Removing multicolinear columns in seeds dataset...\n",
      "Finished\n"
     ]
    },
    {
     "name": "stderr",
     "output_type": "stream",
     "text": [
      "IWLS:   2%|▏         | 10/500 [00:00<00:00, 15917.66it/s]\n",
      "SGD: 100%|██████████| 500/500 [00:01<00:00, 290.58it/s]\n",
      "ADAM:  50%|█████     | 251/500 [00:01<00:01, 197.48it/s]\n"
     ]
    },
    {
     "name": "stdout",
     "output_type": "stream",
     "text": [
      "CV split 2\n",
      "Removing multicolinear columns in seeds dataset...\n",
      "Finished\n"
     ]
    },
    {
     "name": "stderr",
     "output_type": "stream",
     "text": [
      "IWLS:   2%|▏         | 10/500 [00:00<00:00, 15274.23it/s]\n",
      "SGD: 100%|██████████| 500/500 [00:01<00:00, 289.05it/s]\n",
      "ADAM:  52%|█████▏    | 258/500 [00:01<00:01, 198.67it/s]\n"
     ]
    },
    {
     "name": "stdout",
     "output_type": "stream",
     "text": [
      "CV split 3\n",
      "Removing multicolinear columns in seeds dataset...\n",
      "Finished\n"
     ]
    },
    {
     "name": "stderr",
     "output_type": "stream",
     "text": [
      "IWLS:   2%|▏         | 10/500 [00:00<00:00, 15887.52it/s]\n",
      "SGD: 100%|██████████| 500/500 [00:01<00:00, 290.23it/s]\n",
      "ADAM:  52%|█████▏    | 260/500 [00:01<00:01, 203.12it/s]\n"
     ]
    },
    {
     "name": "stdout",
     "output_type": "stream",
     "text": [
      "CV split 4\n",
      "Removing multicolinear columns in seeds dataset...\n",
      "Finished\n"
     ]
    },
    {
     "name": "stderr",
     "output_type": "stream",
     "text": [
      "IWLS:   2%|▏         | 11/500 [00:00<00:00, 13842.59it/s]\n",
      "SGD: 100%|██████████| 500/500 [00:01<00:00, 287.21it/s]\n",
      "ADAM:  54%|█████▍    | 271/500 [00:01<00:01, 201.83it/s]\n"
     ]
    },
    {
     "name": "stdout",
     "output_type": "stream",
     "text": [
      "CV split 5\n",
      "Removing multicolinear columns in seeds dataset...\n",
      "Finished\n"
     ]
    },
    {
     "name": "stderr",
     "output_type": "stream",
     "text": [
      "IWLS:   2%|▏         | 12/500 [00:00<00:00, 12535.90it/s]\n",
      "SGD: 100%|██████████| 500/500 [00:01<00:00, 290.65it/s]\n",
      "ADAM:  58%|█████▊    | 292/500 [00:01<00:01, 201.64it/s]\n"
     ]
    },
    {
     "name": "stdout",
     "output_type": "stream",
     "text": [
      "CV split 1\n",
      "Removing multicolinear columns in sonar dataset...\n",
      "Finished\n"
     ]
    },
    {
     "name": "stderr",
     "output_type": "stream",
     "text": [
      "IWLS:   2%|▏         | 11/500 [00:00<00:00, 6928.57it/s]\n",
      "SGD:  96%|█████████▌| 481/500 [00:01<00:00, 281.39it/s]\n",
      "ADAM:  89%|████████▉ | 446/500 [00:02<00:00, 196.22it/s]\n"
     ]
    },
    {
     "name": "stdout",
     "output_type": "stream",
     "text": [
      "CV split 2\n",
      "Removing multicolinear columns in sonar dataset...\n",
      "Finished\n"
     ]
    },
    {
     "name": "stderr",
     "output_type": "stream",
     "text": [
      "IWLS:   2%|▏         | 10/500 [00:00<00:00, 4970.73it/s]\n",
      "SGD:  91%|█████████ | 455/500 [00:01<00:00, 285.79it/s]\n",
      "ADAM:  75%|███████▌  | 377/500 [00:01<00:00, 201.33it/s]\n"
     ]
    },
    {
     "name": "stdout",
     "output_type": "stream",
     "text": [
      "CV split 3\n",
      "Removing multicolinear columns in sonar dataset...\n",
      "Finished\n"
     ]
    },
    {
     "name": "stderr",
     "output_type": "stream",
     "text": [
      "IWLS:   2%|▏         | 11/500 [00:00<00:00, 5007.85it/s]\n",
      "SGD:  98%|█████████▊| 490/500 [00:01<00:00, 277.48it/s]\n",
      "ADAM:  85%|████████▌ | 425/500 [00:02<00:00, 201.07it/s]\n"
     ]
    },
    {
     "name": "stdout",
     "output_type": "stream",
     "text": [
      "CV split 4\n",
      "Removing multicolinear columns in sonar dataset...\n",
      "Finished\n"
     ]
    },
    {
     "name": "stderr",
     "output_type": "stream",
     "text": [
      "IWLS:   3%|▎         | 14/500 [00:00<00:00, 5474.06it/s]\n",
      "SGD: 100%|██████████| 500/500 [00:01<00:00, 283.65it/s]\n",
      "ADAM: 100%|██████████| 500/500 [00:02<00:00, 204.14it/s]\n"
     ]
    },
    {
     "name": "stdout",
     "output_type": "stream",
     "text": [
      "CV split 5\n",
      "Removing multicolinear columns in sonar dataset...\n",
      "Finished\n"
     ]
    },
    {
     "name": "stderr",
     "output_type": "stream",
     "text": [
      "IWLS:   2%|▏         | 10/500 [00:00<00:00, 5021.31it/s]\n",
      "SGD:  89%|████████▊ | 443/500 [00:01<00:00, 285.73it/s]\n",
      "ADAM:  73%|███████▎  | 364/500 [00:01<00:00, 195.73it/s]\n"
     ]
    }
   ],
   "source": [
    "l_vals = {}\n",
    "acc_vals = {}\n",
    "\n",
    "for dataset_name, dataset in loaded_datasets.items():\n",
    "    l_vals[dataset_name], acc_vals[dataset_name] = cv(dataset, n_splits=5)"
   ]
  },
  {
   "cell_type": "code",
   "execution_count": 17,
   "metadata": {},
   "outputs": [],
   "source": [
    "# save results to json\n",
    "import json\n",
    "with open('acc_vals.json', 'w') as f:\n",
    "    json.dump(acc_vals, f, indent=4)\n",
    "\n",
    "with open('l_vals.json', 'w') as f:\n",
    "    json.dump(l_vals, f, indent=4)"
   ]
  },
  {
   "cell_type": "code",
   "execution_count": 13,
   "metadata": {},
   "outputs": [
    {
     "data": {
      "text/html": [
       "<div>\n",
       "<style scoped>\n",
       "    .dataframe tbody tr th:only-of-type {\n",
       "        vertical-align: middle;\n",
       "    }\n",
       "\n",
       "    .dataframe tbody tr th {\n",
       "        vertical-align: top;\n",
       "    }\n",
       "\n",
       "    .dataframe thead th {\n",
       "        text-align: right;\n",
       "    }\n",
       "</style>\n",
       "<table border=\"1\" class=\"dataframe\">\n",
       "  <thead>\n",
       "    <tr style=\"text-align: right;\">\n",
       "      <th></th>\n",
       "      <th>iwls</th>\n",
       "      <th>adam</th>\n",
       "      <th>sgd</th>\n",
       "    </tr>\n",
       "  </thead>\n",
       "  <tbody>\n",
       "    <tr>\n",
       "      <th>booking</th>\n",
       "      <td>0.750671</td>\n",
       "      <td>0.752229</td>\n",
       "      <td>0.750545</td>\n",
       "    </tr>\n",
       "    <tr>\n",
       "      <th>challenger</th>\n",
       "      <td>1.0</td>\n",
       "      <td>1.0</td>\n",
       "      <td>1.0</td>\n",
       "    </tr>\n",
       "    <tr>\n",
       "      <th>churn</th>\n",
       "      <td>0.651783</td>\n",
       "      <td>0.654283</td>\n",
       "      <td>0.658934</td>\n",
       "    </tr>\n",
       "    <tr>\n",
       "      <th>diabetes</th>\n",
       "      <td>0.752575</td>\n",
       "      <td>0.75525</td>\n",
       "      <td>0.756157</td>\n",
       "    </tr>\n",
       "    <tr>\n",
       "      <th>ionosphere</th>\n",
       "      <td>0.83017</td>\n",
       "      <td>0.83504</td>\n",
       "      <td>0.842656</td>\n",
       "    </tr>\n",
       "    <tr>\n",
       "      <th>jungle</th>\n",
       "      <td>0.986464</td>\n",
       "      <td>0.985144</td>\n",
       "      <td>0.984791</td>\n",
       "    </tr>\n",
       "    <tr>\n",
       "      <th>seeds</th>\n",
       "      <td>0.969714</td>\n",
       "      <td>0.973714</td>\n",
       "      <td>0.976857</td>\n",
       "    </tr>\n",
       "    <tr>\n",
       "      <th>sonar</th>\n",
       "      <td>0.772823</td>\n",
       "      <td>0.780486</td>\n",
       "      <td>0.779817</td>\n",
       "    </tr>\n",
       "    <tr>\n",
       "      <th>water</th>\n",
       "      <td>0.664324</td>\n",
       "      <td>0.664809</td>\n",
       "      <td>0.663382</td>\n",
       "    </tr>\n",
       "  </tbody>\n",
       "</table>\n",
       "</div>"
      ],
      "text/plain": [
       "                iwls      adam       sgd\n",
       "booking     0.750671  0.752229  0.750545\n",
       "challenger       1.0       1.0       1.0\n",
       "churn       0.651783  0.654283  0.658934\n",
       "diabetes    0.752575   0.75525  0.756157\n",
       "ionosphere   0.83017   0.83504  0.842656\n",
       "jungle      0.986464  0.985144  0.984791\n",
       "seeds       0.969714  0.973714  0.976857\n",
       "sonar       0.772823  0.780486  0.779817\n",
       "water       0.664324  0.664809  0.663382"
      ]
     },
     "execution_count": 13,
     "metadata": {},
     "output_type": "execute_result"
    }
   ],
   "source": [
    "import pandas as pd\n",
    "custom_models = ['iwls', 'adam', 'sgd']\n",
    "\n",
    "# Create an empty dataframe to store the average accuracy values\n",
    "avg_acc_df = pd.DataFrame(index=custom_models, columns=acc_vals.keys())\n",
    "\n",
    "# Compute the average accuracy for each custom model and dataset\n",
    "for model in custom_models:\n",
    "    for dataset, splits in acc_vals.items():\n",
    "        avg_acc = sum(splits[model]) / len(splits[model])\n",
    "        avg_acc_df.loc[model, dataset] = avg_acc\n",
    "\n",
    "sorted_acc_table = avg_acc_df.T.sort_index()\n",
    "sorted_acc_table"
   ]
  },
  {
   "cell_type": "code",
   "execution_count": 11,
   "metadata": {},
   "outputs": [
    {
     "data": {
      "text/plain": [
       "5"
      ]
     },
     "execution_count": 11,
     "metadata": {},
     "output_type": "execute_result"
    }
   ],
   "source": [
    "len(l_vals['booking']['iwls'])"
   ]
  },
  {
   "cell_type": "code",
   "execution_count": 19,
   "metadata": {},
   "outputs": [],
   "source": [
    "import pandas as pd\n",
    "from math import floor\n",
    "\n",
    "def compute_rounded_avg_epoch(l_vals, method, dataset):\n",
    "    return floor(np.mean([len(x) for x in l_vals[dataset][method]]))\n",
    "    \n",
    "# Define the dataset names\n",
    "datasets = ['booking', 'churn', 'diabetes', 'challenger', 'jungle', 'ionosphere', 'water', 'seeds', 'sonar']\n",
    "\n",
    "# Define the optimization methods\n",
    "methods = ['iwls', 'adam', 'sgd']\n",
    "\n",
    "# Create an empty dataframe\n",
    "df = pd.DataFrame(index=datasets, columns=methods)\n",
    "\n",
    "# Fill the dataframe with values\n",
    "for dataset in datasets:\n",
    "    for method in methods:\n",
    "        df.loc[dataset, method] = compute_rounded_avg_epoch(l_vals, method, dataset)"
   ]
  },
  {
   "cell_type": "code",
   "execution_count": 20,
   "metadata": {},
   "outputs": [
    {
     "data": {
      "text/html": [
       "<div>\n",
       "<style scoped>\n",
       "    .dataframe tbody tr th:only-of-type {\n",
       "        vertical-align: middle;\n",
       "    }\n",
       "\n",
       "    .dataframe tbody tr th {\n",
       "        vertical-align: top;\n",
       "    }\n",
       "\n",
       "    .dataframe thead th {\n",
       "        text-align: right;\n",
       "    }\n",
       "</style>\n",
       "<table border=\"1\" class=\"dataframe\">\n",
       "  <thead>\n",
       "    <tr style=\"text-align: right;\">\n",
       "      <th></th>\n",
       "      <th>iwls</th>\n",
       "      <th>adam</th>\n",
       "      <th>sgd</th>\n",
       "      <th>adam (%)</th>\n",
       "      <th>sgd (%)</th>\n",
       "    </tr>\n",
       "  </thead>\n",
       "  <tbody>\n",
       "    <tr>\n",
       "      <th>booking</th>\n",
       "      <td>13</td>\n",
       "      <td>38</td>\n",
       "      <td>44</td>\n",
       "      <td>2.923077</td>\n",
       "      <td>3.384615</td>\n",
       "    </tr>\n",
       "    <tr>\n",
       "      <th>churn</th>\n",
       "      <td>10</td>\n",
       "      <td>108</td>\n",
       "      <td>211</td>\n",
       "      <td>10.8</td>\n",
       "      <td>21.1</td>\n",
       "    </tr>\n",
       "    <tr>\n",
       "      <th>diabetes</th>\n",
       "      <td>10</td>\n",
       "      <td>95</td>\n",
       "      <td>185</td>\n",
       "      <td>9.5</td>\n",
       "      <td>18.5</td>\n",
       "    </tr>\n",
       "    <tr>\n",
       "      <th>challenger</th>\n",
       "      <td>18</td>\n",
       "      <td>14</td>\n",
       "      <td>501</td>\n",
       "      <td>0.777778</td>\n",
       "      <td>27.833333</td>\n",
       "    </tr>\n",
       "    <tr>\n",
       "      <th>jungle</th>\n",
       "      <td>16</td>\n",
       "      <td>384</td>\n",
       "      <td>501</td>\n",
       "      <td>24.0</td>\n",
       "      <td>31.3125</td>\n",
       "    </tr>\n",
       "    <tr>\n",
       "      <th>ionosphere</th>\n",
       "      <td>14</td>\n",
       "      <td>479</td>\n",
       "      <td>501</td>\n",
       "      <td>34.214286</td>\n",
       "      <td>35.785714</td>\n",
       "    </tr>\n",
       "    <tr>\n",
       "      <th>water</th>\n",
       "      <td>12</td>\n",
       "      <td>45</td>\n",
       "      <td>130</td>\n",
       "      <td>3.75</td>\n",
       "      <td>10.833333</td>\n",
       "    </tr>\n",
       "    <tr>\n",
       "      <th>seeds</th>\n",
       "      <td>12</td>\n",
       "      <td>268</td>\n",
       "      <td>501</td>\n",
       "      <td>22.333333</td>\n",
       "      <td>41.75</td>\n",
       "    </tr>\n",
       "    <tr>\n",
       "      <th>sonar</th>\n",
       "      <td>13</td>\n",
       "      <td>424</td>\n",
       "      <td>475</td>\n",
       "      <td>32.615385</td>\n",
       "      <td>36.538462</td>\n",
       "    </tr>\n",
       "  </tbody>\n",
       "</table>\n",
       "</div>"
      ],
      "text/plain": [
       "           iwls adam  sgd   adam (%)    sgd (%)\n",
       "booking      13   38   44   2.923077   3.384615\n",
       "churn        10  108  211       10.8       21.1\n",
       "diabetes     10   95  185        9.5       18.5\n",
       "challenger   18   14  501   0.777778  27.833333\n",
       "jungle       16  384  501       24.0    31.3125\n",
       "ionosphere   14  479  501  34.214286  35.785714\n",
       "water        12   45  130       3.75  10.833333\n",
       "seeds        12  268  501  22.333333      41.75\n",
       "sonar        13  424  475  32.615385  36.538462"
      ]
     },
     "execution_count": 20,
     "metadata": {},
     "output_type": "execute_result"
    }
   ],
   "source": [
    "df['adam (%)'] = np.round(df['adam'] / df['iwls'], 1)\n",
    "df['sgd (%)'] =  np.round(df['sgd'] / df['iwls'], 1)\n",
    "df"
   ]
  },
  {
   "cell_type": "markdown",
   "metadata": {},
   "source": [
    "### Classification performance of custom optimizers vs. scikit models"
   ]
  },
  {
   "cell_type": "code",
   "execution_count": 21,
   "metadata": {},
   "outputs": [
    {
     "data": {
      "text/plain": [
       "{'booking': {'iwls': [0.7595034764011672,\n",
       "   0.7484625333387873,\n",
       "   0.7484625333387873,\n",
       "   0.7484625333387873,\n",
       "   0.7484625333387873],\n",
       "  'sgd': [0.7597236629059769,\n",
       "   0.7482500386511545,\n",
       "   0.7482500386511545,\n",
       "   0.7482500386511545,\n",
       "   0.7482500386511545],\n",
       "  'adam': [0.7573338210973826,\n",
       "   0.7509524129759726,\n",
       "   0.7509524129759726,\n",
       "   0.7509524129759726,\n",
       "   0.7509524129759726],\n",
       "  'lr': [0.7592913423324358,\n",
       "   0.7484625333387873,\n",
       "   0.7484625333387873,\n",
       "   0.7484625333387873,\n",
       "   0.7484625333387873],\n",
       "  'qda': [0.5, 0.5, 0.5, 0.5, 0.5],\n",
       "  'lda': [0.7478308209155533,\n",
       "   0.740826893785241,\n",
       "   0.740826893785241,\n",
       "   0.740826893785241,\n",
       "   0.740826893785241],\n",
       "  'dt': [0.7999459707514742,\n",
       "   0.7948949191237593,\n",
       "   0.7948949191237593,\n",
       "   0.7948949191237593,\n",
       "   0.7948949191237593],\n",
       "  'rf': [0.7603418388993273,\n",
       "   0.7570150112071015,\n",
       "   0.7570150112071015,\n",
       "   0.7570150112071015,\n",
       "   0.7570150112071015]},\n",
       " 'churn': {'iwls': [0.606953642384106,\n",
       "   0.6715142428785608,\n",
       "   0.6517422255526415,\n",
       "   0.6963207818338603,\n",
       "   0.6323852922690132],\n",
       "  'sgd': [0.6194536423841059,\n",
       "   0.6715142428785608,\n",
       "   0.6517422255526415,\n",
       "   0.6963207818338603,\n",
       "   0.6556411062225016],\n",
       "  'adam': [0.6194536423841059,\n",
       "   0.6715142428785608,\n",
       "   0.6517422255526415,\n",
       "   0.6963207818338603,\n",
       "   0.6323852922690132],\n",
       "  'lr': [0.606953642384106,\n",
       "   0.6715142428785608,\n",
       "   0.6517422255526415,\n",
       "   0.6963207818338603,\n",
       "   0.6323852922690132],\n",
       "  'qda': [0.5, 0.5, 0.5, 0.5, 0.5],\n",
       "  'lda': [0.6819536423841059,\n",
       "   0.7486506746626687,\n",
       "   0.6747845635069314,\n",
       "   0.723052601322219,\n",
       "   0.6987743557510999],\n",
       "  'dt': [0.7569536423841059,\n",
       "   0.7802098950524738,\n",
       "   0.6970775571375047,\n",
       "   0.7944811727507904,\n",
       "   0.7752985543683217],\n",
       "  'rf': [0.6510761589403973,\n",
       "   0.7287856071964018,\n",
       "   0.6279505432746347,\n",
       "   0.6797930439781547,\n",
       "   0.6991671904462602]},\n",
       " 'diabetes': {'iwls': [0.7686781609195402,\n",
       "   0.7129251700680272,\n",
       "   0.7387798036465638,\n",
       "   0.7975925925925926,\n",
       "   0.7448979591836735],\n",
       "  'sgd': [0.7807112068965517,\n",
       "   0.7129251700680272,\n",
       "   0.7442145862552595,\n",
       "   0.7925925925925926,\n",
       "   0.7503401360544217],\n",
       "  'adam': [0.7720905172413793,\n",
       "   0.717687074829932,\n",
       "   0.7387798036465638,\n",
       "   0.7925925925925926,\n",
       "   0.7551020408163265],\n",
       "  'lr': [0.7634698275862069,\n",
       "   0.717687074829932,\n",
       "   0.7387798036465638,\n",
       "   0.7975925925925926,\n",
       "   0.7448979591836735],\n",
       "  'qda': [0.5, 0.5, 0.5, 0.5, 0.5],\n",
       "  'lda': [0.7686781609195402,\n",
       "   0.7129251700680272,\n",
       "   0.7522791023842917,\n",
       "   0.7883333333333333,\n",
       "   0.7551020408163265],\n",
       "  'dt': [0.7632902298850575,\n",
       "   0.6877551020408164,\n",
       "   0.7382538569424965,\n",
       "   0.7405555555555556,\n",
       "   0.6353741496598639],\n",
       "  'rf': [0.7185704022988506,\n",
       "   0.7142857142857142,\n",
       "   0.7359747545582047,\n",
       "   0.769074074074074,\n",
       "   0.7360544217687075]},\n",
       " 'challenger': {'iwls': [1.0, 1.0, 1.0, 1.0, 1.0],\n",
       "  'sgd': [1.0, 1.0, 1.0, 1.0, 1.0],\n",
       "  'adam': [1.0, 1.0, 1.0, 1.0, 1.0],\n",
       "  'lr': [1.0, 1.0, 1.0, 1.0, 1.0],\n",
       "  'qda': [1.0, 1.0, 1.0, 1.0, 1.0],\n",
       "  'lda': [1.0, 1.0, 1.0, 1.0, 1.0],\n",
       "  'dt': [1.0, 1.0, 1.0, 1.0, 1.0],\n",
       "  'rf': [1.0, 1.0, 1.0, 1.0, 1.0]},\n",
       " 'jungle': {'iwls': [0.9869281045751634,\n",
       "   0.987954865190213,\n",
       "   0.983718487394958,\n",
       "   0.9833397534668722,\n",
       "   0.9903791365329827],\n",
       "  'sgd': [0.983718487394958,\n",
       "   0.9867728320932863,\n",
       "   0.983718487394958,\n",
       "   0.984553158705701,\n",
       "   0.9851924903206954],\n",
       "  'adam': [0.9847105508870215,\n",
       "   0.987954865190213,\n",
       "   0.9807422969187676,\n",
       "   0.9834167950693374,\n",
       "   0.9888961940243991],\n",
       "  'lr': [0.9847105508870215,\n",
       "   0.987954865190213,\n",
       "   0.9827264239028946,\n",
       "   0.9834167950693374,\n",
       "   0.9888961940243991],\n",
       "  'qda': [0.5555555555555556,\n",
       "   0.5991820040899796,\n",
       "   0.7529761904761905,\n",
       "   0.638771186440678,\n",
       "   0.6050259332310615],\n",
       "  'lda': [0.9312558356676004,\n",
       "   0.936068688450884,\n",
       "   0.9431022408963585,\n",
       "   0.9400231124807397,\n",
       "   0.9491562568485645],\n",
       "  'dt': [1.0, 1.0, 1.0, 1.0, 1.0],\n",
       "  'rf': [1.0,\n",
       "   0.9976359338061466,\n",
       "   0.998015873015873,\n",
       "   0.997804314329738,\n",
       "   0.9990138067061144]},\n",
       " 'ionosphere': {'iwls': [0.7965811965811966,\n",
       "   0.8205009276437847,\n",
       "   0.834717607973422,\n",
       "   0.8661616161616161,\n",
       "   0.8328900709219859],\n",
       "  'sgd': [0.8927350427350427,\n",
       "   0.7648423005565863,\n",
       "   0.893687707641196,\n",
       "   0.8291245791245792,\n",
       "   0.8328900709219859],\n",
       "  'adam': [0.8735042735042735,\n",
       "   0.7648423005565863,\n",
       "   0.864202657807309,\n",
       "   0.8291245791245792,\n",
       "   0.8435283687943262],\n",
       "  'lr': [0.8542735042735042,\n",
       "   0.7648423005565863,\n",
       "   0.864202657807309,\n",
       "   0.8106060606060606,\n",
       "   0.8226950354609929],\n",
       "  'qda': [0.8623931623931624,\n",
       "   0.8228200371057515,\n",
       "   0.8122923588039868,\n",
       "   0.9145622895622896,\n",
       "   0.9046985815602837],\n",
       "  'lda': [0.8735042735042735,\n",
       "   0.7750463821892393,\n",
       "   0.8633720930232558,\n",
       "   0.7664141414141414,\n",
       "   0.8333333333333333],\n",
       "  'dt': [0.8461538461538461,\n",
       "   0.8307050092764379,\n",
       "   0.8401162790697674,\n",
       "   0.7735690235690236,\n",
       "   0.8945035460992907],\n",
       "  'rf': [0.9230769230769231,\n",
       "   0.8534322820037106,\n",
       "   0.9053156146179402,\n",
       "   0.8476430976430976,\n",
       "   0.9268617021276595]},\n",
       " 'water': {'iwls': [0.6556950642652507,\n",
       "   0.6612264959419267,\n",
       "   0.6797184294638681,\n",
       "   0.659732311728269,\n",
       "   0.6652462121212122],\n",
       "  'sgd': [0.6530772632181303,\n",
       "   0.6615751709767942,\n",
       "   0.6772769982583671,\n",
       "   0.659732311728269,\n",
       "   0.6652462121212122],\n",
       "  'adam': [0.6530772632181303,\n",
       "   0.6612264959419267,\n",
       "   0.6769251333744826,\n",
       "   0.6649679138225097,\n",
       "   0.6678503787878788],\n",
       "  'lr': [0.6556950642652507,\n",
       "   0.6615751709767942,\n",
       "   0.6797184294638681,\n",
       "   0.6571145106811485,\n",
       "   0.6652462121212122],\n",
       "  'qda': [0.5, 0.5, 0.5, 0.5, 0.5],\n",
       "  'lda': [0.6883534793158417,\n",
       "   0.6778746786308414,\n",
       "   0.6873080960374903,\n",
       "   0.7035716541752906,\n",
       "   0.689157196969697],\n",
       "  'dt': [0.8597497761213441,\n",
       "   0.8083715615600477,\n",
       "   0.8183925082265617,\n",
       "   0.8404479059449537,\n",
       "   0.827533143939394],\n",
       "  'rf': [0.7551250562019032,\n",
       "   0.7528860210717346,\n",
       "   0.7506712952952324,\n",
       "   0.7943920719087095,\n",
       "   0.7247869318181819]},\n",
       " 'seeds': {'iwls': [1.0, 1.0, 0.98, 0.94, 0.9285714285714286],\n",
       "  'sgd': [1.0, 1.0, 0.96, 0.96, 0.9642857142857143],\n",
       "  'adam': [1.0, 1.0, 0.98, 0.96, 0.9285714285714286],\n",
       "  'lr': [1.0, 1.0, 0.98, 0.96, 0.9285714285714286],\n",
       "  'qda': [0.5, 0.5, 0.5, 0.5, 0.5],\n",
       "  'lda': [1.0, 1.0, 0.98, 0.96, 0.9285714285714286],\n",
       "  'dt': [1.0, 1.0, 0.98, 0.9, 0.9285714285714286],\n",
       "  'rf': [1.0, 1.0, 1.0, 0.98, 0.9285714285714286]},\n",
       " 'sonar': {'iwls': [0.6904761904761905,\n",
       "   0.7423529411764705,\n",
       "   0.7688787185354691,\n",
       "   0.8318181818181818,\n",
       "   0.8305882352941176],\n",
       "  'sgd': [0.6666666666666666,\n",
       "   0.8023529411764705,\n",
       "   0.6899313501144164,\n",
       "   0.9295454545454545,\n",
       "   0.8105882352941176],\n",
       "  'adam': [0.6904761904761905,\n",
       "   0.7329411764705882,\n",
       "   0.7688787185354691,\n",
       "   0.8795454545454545,\n",
       "   0.8305882352941176],\n",
       "  'lr': [0.6904761904761905,\n",
       "   0.7423529411764705,\n",
       "   0.7688787185354691,\n",
       "   0.8795454545454545,\n",
       "   0.8305882352941176],\n",
       "  'qda': [0.7142857142857142,\n",
       "   0.6705882352941177,\n",
       "   0.72883295194508,\n",
       "   0.8522727272727273,\n",
       "   0.74],\n",
       "  'lda': [0.6904761904761905,\n",
       "   0.7129411764705882,\n",
       "   0.6853546910755148,\n",
       "   0.8613636363636363,\n",
       "   0.7611764705882353],\n",
       "  'dt': [0.6428571428571428,\n",
       "   0.6541176470588235,\n",
       "   0.6510297482837528,\n",
       "   0.7340909090909091,\n",
       "   0.7717647058823529],\n",
       "  'rf': [0.7857142857142857,\n",
       "   0.8305882352941176,\n",
       "   0.8512585812356979,\n",
       "   0.9022727272727273,\n",
       "   0.7905882352941176]}}"
      ]
     },
     "execution_count": 21,
     "metadata": {},
     "output_type": "execute_result"
    }
   ],
   "source": [
    "acc_vals"
   ]
  },
  {
   "cell_type": "code",
   "execution_count": 34,
   "metadata": {},
   "outputs": [
    {
     "data": {
      "image/png": "[encoded data removed]",
      "text/plain": [
       "<Figure size 1000x1000 with 9 Axes>"
      ]
     },
     "metadata": {},
     "output_type": "display_data"
    }
   ],
   "source": [
    "import matplotlib.pyplot as plt\n",
    "\n",
    "fig, axes = plt.subplots(3, 3, figsize=(10, 10), sharey=True)\n",
    "for i, dataset in enumerate(acc_vals):\n",
    "    data = acc_vals[dataset]\n",
    "    row = i // 3\n",
    "    col = i % 3\n",
    "    \n",
    "    axes[row, col].boxplot(data.values())\n",
    "    axes[row, col].set_title(dataset)\n",
    "    axes[row, col].set_title(dataset)\n",
    "    axes[row, col].set_xticklabels(data.keys())\n",
    "    if row == 2:\n",
    "        axes[row, col].set_xlabel('Method')\n",
    "    if col == 0:\n",
    "        axes[row, col].set_ylabel('Balanced Accuracy')\n",
    "    \n",
    "plt.tight_layout()\n",
    "plt.show()\n"
   ]
  },
  {
   "cell_type": "code",
   "execution_count": 39,
   "metadata": {},
   "outputs": [
    {
     "data": {
      "image/png": "[encoded data removed]",
      "text/plain": [
       "<Figure size 1000x1000 with 9 Axes>"
      ]
     },
     "metadata": {},
     "output_type": "display_data"
    }
   ],
   "source": [
    "import seaborn as sns\n",
    "import matplotlib.pyplot as plt\n",
    "\n",
    "fig, axes = plt.subplots(3, 3, figsize=(10, 10), sharey=True)\n",
    "for i, dataset in enumerate(acc_vals):\n",
    "    data = acc_vals[dataset]\n",
    "    row = i // 3\n",
    "    col = i % 3\n",
    "    sns.boxplot(data=list(data.values()), ax=axes[row, col], color='dodgerblue')\n",
    "    axes[row, col].set_title(dataset)\n",
    "    if row == 2:\n",
    "        axes[row, col].set_xlabel('Method')\n",
    "    if col == 0:\n",
    "        axes[row, col].set_ylabel('Balanced Accuracy')\n",
    "    axes[row, col].set_xticklabels(data.keys())\n",
    "    \n",
    "plt.tight_layout()\n",
    "plt.show()"
   ]
  },
  {
   "cell_type": "code",
   "execution_count": 91,
   "metadata": {},
   "outputs": [
    {
     "data": {
      "text/plain": [
       "{'booking': {'iwls': [0.7595034764011672,\n",
       "   0.7484625333387873,\n",
       "   0.7484625333387873,\n",
       "   0.7484625333387873,\n",
       "   0.7484625333387873],\n",
       "  'sgd': [0.7597236629059769,\n",
       "   0.7482500386511545,\n",
       "   0.7482500386511545,\n",
       "   0.7482500386511545,\n",
       "   0.7482500386511545],\n",
       "  'adam': [0.7573338210973826,\n",
       "   0.7509524129759726,\n",
       "   0.7509524129759726,\n",
       "   0.7509524129759726,\n",
       "   0.7509524129759726],\n",
       "  'lr': [0.7592913423324358,\n",
       "   0.7484625333387873,\n",
       "   0.7484625333387873,\n",
       "   0.7484625333387873,\n",
       "   0.7484625333387873],\n",
       "  'qda': [0.5, 0.5, 0.5, 0.5, 0.5],\n",
       "  'lda': [0.7478308209155533,\n",
       "   0.740826893785241,\n",
       "   0.740826893785241,\n",
       "   0.740826893785241,\n",
       "   0.740826893785241],\n",
       "  'dt': [0.7999459707514742,\n",
       "   0.7948949191237593,\n",
       "   0.7948949191237593,\n",
       "   0.7948949191237593,\n",
       "   0.7948949191237593],\n",
       "  'rf': [0.7603418388993273,\n",
       "   0.7570150112071015,\n",
       "   0.7570150112071015,\n",
       "   0.7570150112071015,\n",
       "   0.7570150112071015]},\n",
       " 'churn': {'iwls': [0.606953642384106,\n",
       "   0.6715142428785608,\n",
       "   0.6517422255526415,\n",
       "   0.6963207818338603,\n",
       "   0.6323852922690132],\n",
       "  'sgd': [0.6194536423841059,\n",
       "   0.6715142428785608,\n",
       "   0.6517422255526415,\n",
       "   0.6963207818338603,\n",
       "   0.6556411062225016],\n",
       "  'adam': [0.6194536423841059,\n",
       "   0.6715142428785608,\n",
       "   0.6517422255526415,\n",
       "   0.6963207818338603,\n",
       "   0.6323852922690132],\n",
       "  'lr': [0.606953642384106,\n",
       "   0.6715142428785608,\n",
       "   0.6517422255526415,\n",
       "   0.6963207818338603,\n",
       "   0.6323852922690132],\n",
       "  'qda': [0.5, 0.5, 0.5, 0.5, 0.5],\n",
       "  'lda': [0.6819536423841059,\n",
       "   0.7486506746626687,\n",
       "   0.6747845635069314,\n",
       "   0.723052601322219,\n",
       "   0.6987743557510999],\n",
       "  'dt': [0.7569536423841059,\n",
       "   0.7802098950524738,\n",
       "   0.6970775571375047,\n",
       "   0.7944811727507904,\n",
       "   0.7752985543683217],\n",
       "  'rf': [0.6510761589403973,\n",
       "   0.7287856071964018,\n",
       "   0.6279505432746347,\n",
       "   0.6797930439781547,\n",
       "   0.6991671904462602]},\n",
       " 'diabetes': {'iwls': [0.7686781609195402,\n",
       "   0.7129251700680272,\n",
       "   0.7387798036465638,\n",
       "   0.7975925925925926,\n",
       "   0.7448979591836735],\n",
       "  'sgd': [0.7807112068965517,\n",
       "   0.7129251700680272,\n",
       "   0.7442145862552595,\n",
       "   0.7925925925925926,\n",
       "   0.7503401360544217],\n",
       "  'adam': [0.7720905172413793,\n",
       "   0.717687074829932,\n",
       "   0.7387798036465638,\n",
       "   0.7925925925925926,\n",
       "   0.7551020408163265],\n",
       "  'lr': [0.7634698275862069,\n",
       "   0.717687074829932,\n",
       "   0.7387798036465638,\n",
       "   0.7975925925925926,\n",
       "   0.7448979591836735],\n",
       "  'qda': [0.5, 0.5, 0.5, 0.5, 0.5],\n",
       "  'lda': [0.7686781609195402,\n",
       "   0.7129251700680272,\n",
       "   0.7522791023842917,\n",
       "   0.7883333333333333,\n",
       "   0.7551020408163265],\n",
       "  'dt': [0.7632902298850575,\n",
       "   0.6877551020408164,\n",
       "   0.7382538569424965,\n",
       "   0.7405555555555556,\n",
       "   0.6353741496598639],\n",
       "  'rf': [0.7185704022988506,\n",
       "   0.7142857142857142,\n",
       "   0.7359747545582047,\n",
       "   0.769074074074074,\n",
       "   0.7360544217687075]},\n",
       " 'employee': {'iwls': [0.5865195832915957,\n",
       "   0.5854561441846429,\n",
       "   0.5904374440131382,\n",
       "   0.6094964753272911,\n",
       "   0.6013890989764534],\n",
       "  'sgd': [0.5871731944305318,\n",
       "   0.5789940582108035,\n",
       "   0.589591420324475,\n",
       "   0.614861530715005,\n",
       "   0.604716885998084],\n",
       "  'adam': [0.5865195832915957,\n",
       "   0.5846522856637426,\n",
       "   0.589591420324475,\n",
       "   0.6155387713997986,\n",
       "   0.60349921847426],\n",
       "  'lr': [0.5865195832915957,\n",
       "   0.5854561441846429,\n",
       "   0.5904374440131382,\n",
       "   0.6094964753272911,\n",
       "   0.6029042504916049],\n",
       "  'qda': [0.5, 0.5, 0.5, 0.5, 0.5],\n",
       "  'lda': [0.5892316938795953,\n",
       "   0.5951648820487205,\n",
       "   0.5977903851896088,\n",
       "   0.6128826787512588,\n",
       "   0.6074497050370594],\n",
       "  'dt': [0.7416257637984573,\n",
       "   0.7599428714138544,\n",
       "   0.7527022991937892,\n",
       "   0.7245065458207451,\n",
       "   0.7242096505823628],\n",
       "  'rf': [0.7536637283381749,\n",
       "   0.7615297765845639,\n",
       "   0.7601348661291928,\n",
       "   0.754977341389728,\n",
       "   0.7349644531840871]},\n",
       " 'challenger': {'iwls': [1.0, 1.0, 1.0, 1.0, 1.0],\n",
       "  'sgd': [1.0, 1.0, 1.0, 1.0, 1.0],\n",
       "  'adam': [1.0, 1.0, 1.0, 1.0, 1.0],\n",
       "  'lr': [1.0, 1.0, 1.0, 1.0, 1.0],\n",
       "  'qda': [1.0, 1.0, 1.0, 1.0, 1.0],\n",
       "  'lda': [1.0, 1.0, 1.0, 1.0, 1.0],\n",
       "  'dt': [1.0, 1.0, 1.0, 1.0, 1.0],\n",
       "  'rf': [1.0, 1.0, 1.0, 1.0, 1.0]},\n",
       " 'jungle': {'iwls': [0.9869281045751634,\n",
       "   0.987954865190213,\n",
       "   0.983718487394958,\n",
       "   0.9833397534668722,\n",
       "   0.9903791365329827],\n",
       "  'sgd': [0.983718487394958,\n",
       "   0.9867728320932863,\n",
       "   0.983718487394958,\n",
       "   0.984553158705701,\n",
       "   0.9851924903206954],\n",
       "  'adam': [0.9847105508870215,\n",
       "   0.987954865190213,\n",
       "   0.9807422969187676,\n",
       "   0.9834167950693374,\n",
       "   0.9888961940243991],\n",
       "  'lr': [0.9847105508870215,\n",
       "   0.987954865190213,\n",
       "   0.9827264239028946,\n",
       "   0.9834167950693374,\n",
       "   0.9888961940243991],\n",
       "  'qda': [0.5555555555555556,\n",
       "   0.5991820040899796,\n",
       "   0.7529761904761905,\n",
       "   0.638771186440678,\n",
       "   0.6050259332310615],\n",
       "  'lda': [0.9312558356676004,\n",
       "   0.936068688450884,\n",
       "   0.9431022408963585,\n",
       "   0.9400231124807397,\n",
       "   0.9491562568485645],\n",
       "  'dt': [1.0, 1.0, 1.0, 1.0, 1.0],\n",
       "  'rf': [1.0,\n",
       "   0.9976359338061466,\n",
       "   0.998015873015873,\n",
       "   0.997804314329738,\n",
       "   0.9990138067061144]},\n",
       " 'ionosphere': {'iwls': [0.7965811965811966,\n",
       "   0.8205009276437847,\n",
       "   0.834717607973422,\n",
       "   0.8661616161616161,\n",
       "   0.8328900709219859],\n",
       "  'sgd': [0.8927350427350427,\n",
       "   0.7648423005565863,\n",
       "   0.893687707641196,\n",
       "   0.8291245791245792,\n",
       "   0.8328900709219859],\n",
       "  'adam': [0.8735042735042735,\n",
       "   0.7648423005565863,\n",
       "   0.864202657807309,\n",
       "   0.8291245791245792,\n",
       "   0.8435283687943262],\n",
       "  'lr': [0.8542735042735042,\n",
       "   0.7648423005565863,\n",
       "   0.864202657807309,\n",
       "   0.8106060606060606,\n",
       "   0.8226950354609929],\n",
       "  'qda': [0.8623931623931624,\n",
       "   0.8228200371057515,\n",
       "   0.8122923588039868,\n",
       "   0.9145622895622896,\n",
       "   0.9046985815602837],\n",
       "  'lda': [0.8735042735042735,\n",
       "   0.7750463821892393,\n",
       "   0.8633720930232558,\n",
       "   0.7664141414141414,\n",
       "   0.8333333333333333],\n",
       "  'dt': [0.8461538461538461,\n",
       "   0.8307050092764379,\n",
       "   0.8401162790697674,\n",
       "   0.7735690235690236,\n",
       "   0.8945035460992907],\n",
       "  'rf': [0.9230769230769231,\n",
       "   0.8534322820037106,\n",
       "   0.9053156146179402,\n",
       "   0.8476430976430976,\n",
       "   0.9268617021276595]},\n",
       " 'water': {'iwls': [0.6556950642652507,\n",
       "   0.6612264959419267,\n",
       "   0.6797184294638681,\n",
       "   0.659732311728269,\n",
       "   0.6652462121212122],\n",
       "  'sgd': [0.6530772632181303,\n",
       "   0.6615751709767942,\n",
       "   0.6772769982583671,\n",
       "   0.659732311728269,\n",
       "   0.6652462121212122],\n",
       "  'adam': [0.6530772632181303,\n",
       "   0.6612264959419267,\n",
       "   0.6769251333744826,\n",
       "   0.6649679138225097,\n",
       "   0.6678503787878788],\n",
       "  'lr': [0.6556950642652507,\n",
       "   0.6615751709767942,\n",
       "   0.6797184294638681,\n",
       "   0.6571145106811485,\n",
       "   0.6652462121212122],\n",
       "  'qda': [0.5, 0.5, 0.5, 0.5, 0.5],\n",
       "  'lda': [0.6883534793158417,\n",
       "   0.6778746786308414,\n",
       "   0.6873080960374903,\n",
       "   0.7035716541752906,\n",
       "   0.689157196969697],\n",
       "  'dt': [0.8597497761213441,\n",
       "   0.8083715615600477,\n",
       "   0.8183925082265617,\n",
       "   0.8404479059449537,\n",
       "   0.827533143939394],\n",
       "  'rf': [0.7551250562019032,\n",
       "   0.7528860210717346,\n",
       "   0.7506712952952324,\n",
       "   0.7943920719087095,\n",
       "   0.7247869318181819]},\n",
       " 'seeds': {'iwls': [1.0, 1.0, 0.98, 0.94, 0.9285714285714286],\n",
       "  'sgd': [1.0, 1.0, 0.96, 0.96, 0.9642857142857143],\n",
       "  'adam': [1.0, 1.0, 0.98, 0.96, 0.9285714285714286],\n",
       "  'lr': [1.0, 1.0, 0.98, 0.96, 0.9285714285714286],\n",
       "  'qda': [0.5, 0.5, 0.5, 0.5, 0.5],\n",
       "  'lda': [1.0, 1.0, 0.98, 0.96, 0.9285714285714286],\n",
       "  'dt': [1.0, 1.0, 0.98, 0.9, 0.9285714285714286],\n",
       "  'rf': [1.0, 1.0, 1.0, 0.98, 0.9285714285714286]},\n",
       " 'sonar': {'iwls': [0.6904761904761905,\n",
       "   0.7423529411764705,\n",
       "   0.7688787185354691,\n",
       "   0.8318181818181818,\n",
       "   0.8305882352941176],\n",
       "  'sgd': [0.6666666666666666,\n",
       "   0.8023529411764705,\n",
       "   0.6899313501144164,\n",
       "   0.9295454545454545,\n",
       "   0.8105882352941176],\n",
       "  'adam': [0.6904761904761905,\n",
       "   0.7329411764705882,\n",
       "   0.7688787185354691,\n",
       "   0.8795454545454545,\n",
       "   0.8305882352941176],\n",
       "  'lr': [0.6904761904761905,\n",
       "   0.7423529411764705,\n",
       "   0.7688787185354691,\n",
       "   0.8795454545454545,\n",
       "   0.8305882352941176],\n",
       "  'qda': [0.7142857142857142,\n",
       "   0.6705882352941177,\n",
       "   0.72883295194508,\n",
       "   0.8522727272727273,\n",
       "   0.74],\n",
       "  'lda': [0.6904761904761905,\n",
       "   0.7129411764705882,\n",
       "   0.6853546910755148,\n",
       "   0.8613636363636363,\n",
       "   0.7611764705882353],\n",
       "  'dt': [0.6428571428571428,\n",
       "   0.6541176470588235,\n",
       "   0.6510297482837528,\n",
       "   0.7340909090909091,\n",
       "   0.7717647058823529],\n",
       "  'rf': [0.7857142857142857,\n",
       "   0.8305882352941176,\n",
       "   0.8512585812356979,\n",
       "   0.9022727272727273,\n",
       "   0.7905882352941176]}}"
      ]
     },
     "execution_count": 91,
     "metadata": {},
     "output_type": "execute_result"
    }
   ],
   "source": [
    "acc_vals"
   ]
  },
  {
   "cell_type": "code",
   "execution_count": 40,
   "metadata": {},
   "outputs": [
    {
     "name": "stdout",
     "output_type": "stream",
     "text": [
      "CV split 1\n",
      "Removing multicolinear columns in booking dataset...\n",
      "Finished\n",
      "Adding interactions to booking dataset...\n",
      "Finished\n"
     ]
    },
    {
     "name": "stderr",
     "output_type": "stream",
     "text": [
      "IWLS:   4%|▎         | 18/500 [00:17<07:58,  1.01it/s]\n",
      "SGD:  11%|█         | 56/500 [00:36<04:52,  1.52it/s]\n",
      "ADAM:   6%|▌         | 29/500 [00:27<07:29,  1.05it/s]\n"
     ]
    },
    {
     "name": "stdout",
     "output_type": "stream",
     "text": [
      "CV split 2\n",
      "Removing multicolinear columns in booking dataset...\n",
      "Finished\n",
      "Adding interactions to booking dataset...\n",
      "Finished\n"
     ]
    },
    {
     "name": "stderr",
     "output_type": "stream",
     "text": [
      "IWLS:   3%|▎         | 15/500 [00:13<07:32,  1.07it/s]\n",
      "SGD:  10%|▉         | 49/500 [00:32<04:59,  1.51it/s]\n",
      "ADAM:   4%|▍         | 20/500 [00:19<07:44,  1.03it/s]\n"
     ]
    },
    {
     "name": "stdout",
     "output_type": "stream",
     "text": [
      "CV split 3\n",
      "Removing multicolinear columns in booking dataset...\n",
      "Finished\n",
      "Adding interactions to booking dataset...\n",
      "Finished\n"
     ]
    },
    {
     "name": "stderr",
     "output_type": "stream",
     "text": [
      "IWLS:   3%|▎         | 14/500 [00:13<07:37,  1.06it/s]\n",
      "SGD:  14%|█▍        | 71/500 [00:46<04:43,  1.52it/s]\n",
      "ADAM:   6%|▌         | 29/500 [00:27<07:30,  1.05it/s]\n"
     ]
    },
    {
     "name": "stdout",
     "output_type": "stream",
     "text": [
      "CV split 4\n",
      "Removing multicolinear columns in booking dataset...\n",
      "Finished\n",
      "Adding interactions to booking dataset...\n",
      "Finished\n"
     ]
    },
    {
     "name": "stderr",
     "output_type": "stream",
     "text": [
      "IWLS:   3%|▎         | 15/500 [00:14<07:36,  1.06it/s]\n",
      "SGD:  12%|█▏        | 60/500 [00:39<04:49,  1.52it/s]\n",
      "ADAM:   7%|▋         | 33/500 [00:31<07:31,  1.03it/s]\n"
     ]
    },
    {
     "name": "stdout",
     "output_type": "stream",
     "text": [
      "CV split 5\n",
      "Removing multicolinear columns in booking dataset...\n",
      "Finished\n",
      "Adding interactions to booking dataset...\n",
      "Finished\n"
     ]
    },
    {
     "name": "stderr",
     "output_type": "stream",
     "text": [
      "IWLS:   3%|▎         | 17/500 [00:17<08:16,  1.03s/it]\n",
      "SGD:  13%|█▎        | 65/500 [00:45<05:01,  1.44it/s]\n",
      "ADAM:   7%|▋         | 37/500 [00:36<07:38,  1.01it/s]\n"
     ]
    },
    {
     "name": "stdout",
     "output_type": "stream",
     "text": [
      "CV split 1\n",
      "Removing multicolinear columns in churn dataset...\n",
      "Finished\n",
      "Adding interactions to churn dataset...\n",
      "Finished\n"
     ]
    },
    {
     "name": "stderr",
     "output_type": "stream",
     "text": [
      "IWLS:   2%|▏         | 9/500 [00:00<00:00, 1628.86it/s]\n",
      "SGD:  80%|███████▉  | 399/500 [00:06<00:01, 60.89it/s]\n",
      "ADAM:  43%|████▎     | 215/500 [00:05<00:06, 42.41it/s]\n"
     ]
    },
    {
     "name": "stdout",
     "output_type": "stream",
     "text": [
      "CV split 2\n",
      "Removing multicolinear columns in churn dataset...\n",
      "Finished\n",
      "Adding interactions to churn dataset...\n",
      "Finished\n"
     ]
    },
    {
     "name": "stderr",
     "output_type": "stream",
     "text": [
      "IWLS:   2%|▏         | 9/500 [00:00<00:00, 1560.12it/s]\n",
      "SGD:  75%|███████▌  | 377/500 [00:06<00:02, 60.87it/s]\n",
      "ADAM:  42%|████▏     | 211/500 [00:04<00:06, 43.10it/s]\n"
     ]
    },
    {
     "name": "stdout",
     "output_type": "stream",
     "text": [
      "CV split 3\n",
      "Removing multicolinear columns in churn dataset...\n",
      "Finished\n",
      "Adding interactions to churn dataset...\n",
      "Finished\n"
     ]
    },
    {
     "name": "stderr",
     "output_type": "stream",
     "text": [
      "IWLS:   2%|▏         | 9/500 [00:00<00:00, 1562.77it/s]\n",
      "SGD:  75%|███████▍  | 374/500 [00:06<00:02, 60.65it/s]\n",
      "ADAM:  40%|███▉      | 199/500 [00:04<00:07, 42.51it/s]\n"
     ]
    },
    {
     "name": "stdout",
     "output_type": "stream",
     "text": [
      "CV split 4\n",
      "Removing multicolinear columns in churn dataset...\n",
      "Finished\n",
      "Adding interactions to churn dataset...\n",
      "Finished\n"
     ]
    },
    {
     "name": "stderr",
     "output_type": "stream",
     "text": [
      "IWLS:   2%|▏         | 9/500 [00:00<00:00, 1459.23it/s]\n",
      "SGD:  75%|███████▌  | 376/500 [00:06<00:01, 62.37it/s]\n",
      "ADAM:  42%|████▏     | 212/500 [00:04<00:06, 42.83it/s]\n"
     ]
    },
    {
     "name": "stdout",
     "output_type": "stream",
     "text": [
      "CV split 5\n",
      "Removing multicolinear columns in churn dataset...\n",
      "Finished\n",
      "Adding interactions to churn dataset...\n",
      "Finished\n"
     ]
    },
    {
     "name": "stderr",
     "output_type": "stream",
     "text": [
      "IWLS:   2%|▏         | 9/500 [00:00<00:00, 1518.88it/s]\n",
      "SGD:  75%|███████▍  | 374/500 [00:06<00:02, 61.38it/s]\n",
      "ADAM:  40%|███▉      | 199/500 [00:04<00:06, 43.31it/s]\n"
     ]
    },
    {
     "name": "stdout",
     "output_type": "stream",
     "text": [
      "CV split 1\n",
      "Removing multicolinear columns in diabetes dataset...\n",
      "Finished\n",
      "Adding interactions to diabetes dataset...\n",
      "Finished\n"
     ]
    },
    {
     "name": "stderr",
     "output_type": "stream",
     "text": [
      "IWLS:   2%|▏         | 9/500 [00:00<00:00, 1545.94it/s]\n",
      "SGD:  54%|█████▍    | 271/500 [00:03<00:02, 78.32it/s]\n",
      "ADAM:  32%|███▏      | 158/500 [00:02<00:06, 53.13it/s]\n"
     ]
    },
    {
     "name": "stdout",
     "output_type": "stream",
     "text": [
      "CV split 2\n",
      "Removing multicolinear columns in diabetes dataset...\n",
      "Finished\n",
      "Adding interactions to diabetes dataset...\n",
      "Finished\n"
     ]
    },
    {
     "name": "stderr",
     "output_type": "stream",
     "text": [
      "IWLS:   2%|▏         | 9/500 [00:00<00:00, 1545.24it/s]\n",
      "SGD:  54%|█████▎    | 268/500 [00:03<00:02, 77.80it/s]\n",
      "ADAM:  31%|███       | 153/500 [00:02<00:06, 53.19it/s]\n"
     ]
    },
    {
     "name": "stdout",
     "output_type": "stream",
     "text": [
      "CV split 3\n",
      "Removing multicolinear columns in diabetes dataset...\n",
      "Finished\n",
      "Adding interactions to diabetes dataset...\n",
      "Finished\n"
     ]
    },
    {
     "name": "stderr",
     "output_type": "stream",
     "text": [
      "IWLS:   2%|▏         | 9/500 [00:00<00:00, 1503.22it/s]\n",
      "SGD:  61%|██████    | 304/500 [00:04<00:02, 75.98it/s]\n",
      "ADAM:  33%|███▎      | 165/500 [00:03<00:06, 51.95it/s]\n"
     ]
    },
    {
     "name": "stdout",
     "output_type": "stream",
     "text": [
      "CV split 4\n",
      "Removing multicolinear columns in diabetes dataset...\n",
      "Finished\n",
      "Adding interactions to diabetes dataset...\n",
      "Finished\n"
     ]
    },
    {
     "name": "stderr",
     "output_type": "stream",
     "text": [
      "IWLS:   2%|▏         | 9/500 [00:00<00:00, 1676.75it/s]\n",
      "SGD:  61%|██████    | 306/500 [00:04<00:02, 75.09it/s]\n",
      "ADAM:  35%|███▍      | 173/500 [00:03<00:06, 52.63it/s]\n"
     ]
    },
    {
     "name": "stdout",
     "output_type": "stream",
     "text": [
      "CV split 5\n",
      "Removing multicolinear columns in diabetes dataset...\n",
      "Finished\n",
      "Adding interactions to diabetes dataset...\n",
      "Finished\n"
     ]
    },
    {
     "name": "stderr",
     "output_type": "stream",
     "text": [
      "IWLS:   2%|▏         | 9/500 [00:00<00:00, 1745.77it/s]\n",
      "SGD:  52%|█████▏    | 259/500 [00:03<00:03, 75.00it/s]\n",
      "ADAM:  28%|██▊       | 142/500 [00:02<00:06, 51.30it/s]\n"
     ]
    },
    {
     "name": "stdout",
     "output_type": "stream",
     "text": [
      "CV split 1\n",
      "Removing multicolinear columns in challenger_lol dataset...\n",
      "Finished\n",
      "Adding interactions to challenger_lol dataset...\n",
      "Finished\n"
     ]
    },
    {
     "name": "stderr",
     "output_type": "stream",
     "text": [
      "IWLS:   3%|▎         | 16/500 [00:42<21:12,  2.63s/it]\n",
      "SGD: 100%|██████████| 500/500 [05:33<00:00,  1.50it/s]\n",
      "ADAM:   3%|▎         | 13/500 [00:12<07:44,  1.05it/s]\n"
     ]
    },
    {
     "name": "stdout",
     "output_type": "stream",
     "text": [
      "CV split 2\n",
      "Removing multicolinear columns in challenger_lol dataset...\n",
      "Finished\n",
      "Adding interactions to challenger_lol dataset...\n",
      "Finished\n"
     ]
    },
    {
     "name": "stderr",
     "output_type": "stream",
     "text": [
      "IWLS:   3%|▎         | 16/500 [00:37<18:43,  2.32s/it]\n",
      "SGD: 100%|██████████| 500/500 [05:16<00:00,  1.58it/s]\n",
      "ADAM:   3%|▎         | 13/500 [00:13<08:32,  1.05s/it]\n"
     ]
    },
    {
     "name": "stdout",
     "output_type": "stream",
     "text": [
      "CV split 3\n",
      "Removing multicolinear columns in challenger_lol dataset...\n",
      "Finished\n",
      "Adding interactions to challenger_lol dataset...\n",
      "Finished\n"
     ]
    },
    {
     "name": "stderr",
     "output_type": "stream",
     "text": [
      "IWLS:   3%|▎         | 16/500 [00:38<19:30,  2.42s/it]\n",
      "SGD: 100%|██████████| 500/500 [05:23<00:00,  1.54it/s]\n",
      "ADAM:   3%|▎         | 13/500 [00:12<07:47,  1.04it/s]\n"
     ]
    },
    {
     "name": "stdout",
     "output_type": "stream",
     "text": [
      "CV split 4\n",
      "Removing multicolinear columns in challenger_lol dataset...\n",
      "Finished\n",
      "Adding interactions to challenger_lol dataset...\n",
      "Finished\n"
     ]
    },
    {
     "name": "stderr",
     "output_type": "stream",
     "text": [
      "IWLS:   3%|▎         | 16/500 [00:36<18:32,  2.30s/it]\n",
      "SGD: 100%|██████████| 500/500 [05:15<00:00,  1.58it/s]\n",
      "ADAM:   3%|▎         | 13/500 [00:12<07:46,  1.04it/s]\n"
     ]
    },
    {
     "name": "stdout",
     "output_type": "stream",
     "text": [
      "CV split 5\n",
      "Removing multicolinear columns in challenger_lol dataset...\n",
      "Finished\n",
      "Adding interactions to challenger_lol dataset...\n",
      "Finished\n"
     ]
    },
    {
     "name": "stderr",
     "output_type": "stream",
     "text": [
      "IWLS:   3%|▎         | 16/500 [00:44<22:29,  2.79s/it]\n",
      "SGD: 100%|██████████| 500/500 [05:23<00:00,  1.55it/s]\n",
      "ADAM:   3%|▎         | 13/500 [00:12<07:56,  1.02it/s]\n"
     ]
    },
    {
     "name": "stdout",
     "output_type": "stream",
     "text": [
      "CV split 1\n",
      "Removing multicolinear columns in jungle dataset...\n",
      "Finished\n",
      "Adding interactions to jungle dataset...\n",
      "Finished\n"
     ]
    },
    {
     "name": "stderr",
     "output_type": "stream",
     "text": [
      "IWLS:   3%|▎         | 16/500 [00:01<00:32, 15.12it/s]\n",
      "SGD:  71%|███████   | 355/500 [00:35<00:14,  9.91it/s]\n",
      "ADAM:   5%|▌         | 26/500 [00:04<01:12,  6.50it/s]\n"
     ]
    },
    {
     "name": "stdout",
     "output_type": "stream",
     "text": [
      "CV split 2\n",
      "Removing multicolinear columns in jungle dataset...\n",
      "Finished\n",
      "Adding interactions to jungle dataset...\n",
      "Finished\n"
     ]
    },
    {
     "name": "stderr",
     "output_type": "stream",
     "text": [
      "IWLS:   3%|▎         | 16/500 [00:01<00:30, 15.64it/s]\n",
      "SGD:  71%|███████   | 355/500 [00:35<00:14, 10.01it/s]\n",
      "ADAM:   5%|▌         | 26/500 [00:04<01:15,  6.29it/s]\n"
     ]
    },
    {
     "name": "stdout",
     "output_type": "stream",
     "text": [
      "CV split 3\n",
      "Removing multicolinear columns in jungle dataset...\n",
      "Finished\n",
      "Adding interactions to jungle dataset...\n",
      "Finished\n"
     ]
    },
    {
     "name": "stderr",
     "output_type": "stream",
     "text": [
      "IWLS:   3%|▎         | 16/500 [00:00<00:28, 16.78it/s]\n",
      "SGD:  71%|███████   | 355/500 [00:36<00:14,  9.86it/s]\n",
      "ADAM:   5%|▌         | 26/500 [00:03<01:12,  6.57it/s]\n"
     ]
    },
    {
     "name": "stdout",
     "output_type": "stream",
     "text": [
      "CV split 4\n",
      "Removing multicolinear columns in jungle dataset...\n",
      "Finished\n",
      "Adding interactions to jungle dataset...\n",
      "Finished\n"
     ]
    },
    {
     "name": "stderr",
     "output_type": "stream",
     "text": [
      "IWLS:   3%|▎         | 16/500 [00:01<00:35, 13.78it/s]\n",
      "SGD:  71%|███████   | 355/500 [00:36<00:14,  9.82it/s]\n",
      "ADAM:   5%|▌         | 26/500 [00:03<01:10,  6.72it/s]\n"
     ]
    },
    {
     "name": "stdout",
     "output_type": "stream",
     "text": [
      "CV split 5\n",
      "Removing multicolinear columns in jungle dataset...\n",
      "Finished\n",
      "Adding interactions to jungle dataset...\n",
      "Finished\n"
     ]
    },
    {
     "name": "stderr",
     "output_type": "stream",
     "text": [
      "IWLS:   3%|▎         | 16/500 [00:00<00:29, 16.59it/s]\n",
      "SGD:  71%|███████   | 355/500 [00:34<00:14, 10.17it/s]\n",
      "ADAM:   5%|▌         | 26/500 [00:03<01:10,  6.68it/s]\n"
     ]
    },
    {
     "name": "stdout",
     "output_type": "stream",
     "text": [
      "CV split 1\n",
      "Removing multicolinear columns in ionosphere dataset...\n",
      "Finished\n",
      "Adding interactions to ionosphere dataset...\n",
      "Finished\n"
     ]
    },
    {
     "name": "stderr",
     "output_type": "stream",
     "text": [
      "IWLS:   2%|▏         | 12/500 [00:00<00:02, 223.67it/s]\n",
      "SGD: 100%|██████████| 500/500 [00:03<00:00, 134.10it/s]\n",
      "ADAM:  39%|███▉      | 194/500 [00:02<00:03, 90.37it/s]\n"
     ]
    },
    {
     "name": "stdout",
     "output_type": "stream",
     "text": [
      "CV split 2\n",
      "Removing multicolinear columns in ionosphere dataset...\n",
      "Finished\n",
      "Adding interactions to ionosphere dataset...\n",
      "Finished\n"
     ]
    },
    {
     "name": "stderr",
     "output_type": "stream",
     "text": [
      "IWLS:   2%|▏         | 12/500 [00:00<00:02, 189.09it/s]\n",
      "SGD:  95%|█████████▌| 476/500 [00:03<00:00, 127.36it/s]\n",
      "ADAM:  45%|████▌     | 225/500 [00:02<00:03, 80.85it/s]\n"
     ]
    },
    {
     "name": "stdout",
     "output_type": "stream",
     "text": [
      "CV split 3\n",
      "Removing multicolinear columns in ionosphere dataset...\n",
      "Finished\n",
      "Adding interactions to ionosphere dataset...\n",
      "Finished\n"
     ]
    },
    {
     "name": "stderr",
     "output_type": "stream",
     "text": [
      "IWLS:   2%|▏         | 12/500 [00:00<00:02, 233.66it/s]\n",
      "SGD:  87%|████████▋ | 433/500 [00:03<00:00, 124.68it/s]\n",
      "ADAM:  49%|████▉     | 246/500 [00:02<00:02, 91.08it/s]\n"
     ]
    },
    {
     "name": "stdout",
     "output_type": "stream",
     "text": [
      "CV split 4\n",
      "Removing multicolinear columns in ionosphere dataset...\n",
      "Finished\n",
      "Adding interactions to ionosphere dataset...\n",
      "Finished\n"
     ]
    },
    {
     "name": "stderr",
     "output_type": "stream",
     "text": [
      "IWLS:   2%|▏         | 12/500 [00:00<00:02, 164.16it/s]\n",
      "SGD: 100%|██████████| 500/500 [00:04<00:00, 116.12it/s]\n",
      "ADAM:  51%|█████     | 255/500 [00:03<00:02, 84.64it/s]\n"
     ]
    },
    {
     "name": "stdout",
     "output_type": "stream",
     "text": [
      "CV split 5\n",
      "Removing multicolinear columns in ionosphere dataset...\n",
      "Finished\n",
      "Adding interactions to ionosphere dataset...\n",
      "Finished\n"
     ]
    },
    {
     "name": "stderr",
     "output_type": "stream",
     "text": [
      "IWLS:   2%|▏         | 12/500 [00:00<00:03, 160.34it/s]\n",
      "SGD:  97%|█████████▋| 483/500 [00:04<00:00, 115.83it/s]\n",
      "ADAM:  48%|████▊     | 241/500 [00:02<00:03, 80.94it/s]\n"
     ]
    },
    {
     "name": "stdout",
     "output_type": "stream",
     "text": [
      "CV split 1\n",
      "Removing multicolinear columns in water dataset...\n",
      "Finished\n",
      "Adding interactions to water dataset...\n",
      "Finished\n"
     ]
    },
    {
     "name": "stderr",
     "output_type": "stream",
     "text": [
      "IWLS:   3%|▎         | 13/500 [00:01<00:44, 10.93it/s]\n",
      "SGD: 100%|██████████| 500/500 [01:22<00:00,  6.03it/s]\n",
      "ADAM:  41%|████      | 203/500 [00:48<01:10,  4.21it/s]\n"
     ]
    },
    {
     "name": "stdout",
     "output_type": "stream",
     "text": [
      "CV split 2\n",
      "Removing multicolinear columns in water dataset...\n",
      "Finished\n",
      "Adding interactions to water dataset...\n",
      "Finished\n"
     ]
    },
    {
     "name": "stderr",
     "output_type": "stream",
     "text": [
      "IWLS:   3%|▎         | 14/500 [00:01<00:43, 11.30it/s]\n",
      "SGD: 100%|██████████| 500/500 [01:22<00:00,  6.03it/s]\n",
      "ADAM:  49%|████▊     | 243/500 [00:56<00:59,  4.29it/s]\n"
     ]
    },
    {
     "name": "stdout",
     "output_type": "stream",
     "text": [
      "CV split 3\n",
      "Removing multicolinear columns in water dataset...\n",
      "Finished\n",
      "Adding interactions to water dataset...\n",
      "Finished\n"
     ]
    },
    {
     "name": "stderr",
     "output_type": "stream",
     "text": [
      "IWLS:   3%|▎         | 13/500 [00:01<00:41, 11.62it/s]\n",
      "SGD: 100%|██████████| 500/500 [01:23<00:00,  6.02it/s]\n",
      "ADAM:  53%|█████▎    | 265/500 [01:00<00:54,  4.34it/s]\n"
     ]
    },
    {
     "name": "stdout",
     "output_type": "stream",
     "text": [
      "CV split 4\n",
      "Removing multicolinear columns in water dataset...\n",
      "Finished\n",
      "Adding interactions to water dataset...\n",
      "Finished\n"
     ]
    },
    {
     "name": "stderr",
     "output_type": "stream",
     "text": [
      "IWLS:   3%|▎         | 14/500 [00:01<00:46, 10.41it/s]\n",
      "SGD: 100%|██████████| 500/500 [01:19<00:00,  6.28it/s]\n",
      "ADAM:  57%|█████▋    | 283/500 [01:06<00:51,  4.25it/s]\n"
     ]
    },
    {
     "name": "stdout",
     "output_type": "stream",
     "text": [
      "CV split 5\n",
      "Removing multicolinear columns in water dataset...\n",
      "Finished\n",
      "Adding interactions to water dataset...\n",
      "Finished\n"
     ]
    },
    {
     "name": "stderr",
     "output_type": "stream",
     "text": [
      "IWLS:   3%|▎         | 13/500 [00:01<00:40, 12.12it/s]\n",
      "SGD: 100%|██████████| 500/500 [01:30<00:00,  5.50it/s]\n",
      "ADAM:  50%|█████     | 250/500 [01:03<01:03,  3.95it/s]\n"
     ]
    },
    {
     "name": "stdout",
     "output_type": "stream",
     "text": [
      "CV split 1\n",
      "Removing multicolinear columns in seeds dataset...\n",
      "Finished\n",
      "Adding interactions to seeds dataset...\n",
      "Finished\n"
     ]
    },
    {
     "name": "stderr",
     "output_type": "stream",
     "text": [
      "IWLS:   2%|▏         | 12/500 [00:00<00:00, 10849.68it/s]\n",
      "SGD: 100%|██████████| 500/500 [00:01<00:00, 286.61it/s]\n",
      "ADAM:  51%|█████▏    | 257/500 [00:01<00:01, 203.24it/s]\n"
     ]
    },
    {
     "name": "stdout",
     "output_type": "stream",
     "text": [
      "CV split 2\n",
      "Removing multicolinear columns in seeds dataset...\n",
      "Finished\n",
      "Adding interactions to seeds dataset...\n",
      "Finished\n"
     ]
    },
    {
     "name": "stderr",
     "output_type": "stream",
     "text": [
      "IWLS:   2%|▏         | 12/500 [00:00<00:00, 7891.45it/s]\n",
      "SGD: 100%|██████████| 500/500 [00:01<00:00, 273.47it/s]\n",
      "ADAM:  54%|█████▍    | 272/500 [00:01<00:01, 197.25it/s]\n"
     ]
    },
    {
     "name": "stdout",
     "output_type": "stream",
     "text": [
      "CV split 3\n",
      "Removing multicolinear columns in seeds dataset...\n",
      "Finished\n",
      "Adding interactions to seeds dataset...\n",
      "Finished\n"
     ]
    },
    {
     "name": "stderr",
     "output_type": "stream",
     "text": [
      "IWLS:   2%|▏         | 12/500 [00:00<00:00, 9151.21it/s]\n",
      "SGD: 100%|██████████| 500/500 [00:01<00:00, 273.19it/s]\n",
      "ADAM:  55%|█████▌    | 277/500 [00:01<00:01, 203.06it/s]\n"
     ]
    },
    {
     "name": "stdout",
     "output_type": "stream",
     "text": [
      "CV split 4\n",
      "Removing multicolinear columns in seeds dataset...\n",
      "Finished\n",
      "Adding interactions to seeds dataset...\n",
      "Finished\n"
     ]
    },
    {
     "name": "stderr",
     "output_type": "stream",
     "text": [
      "IWLS:   2%|▏         | 12/500 [00:00<00:00, 9927.35it/s]\n",
      "SGD: 100%|██████████| 500/500 [00:01<00:00, 283.36it/s]\n",
      "ADAM:  53%|█████▎    | 263/500 [00:01<00:01, 199.09it/s]\n"
     ]
    },
    {
     "name": "stdout",
     "output_type": "stream",
     "text": [
      "CV split 5\n",
      "Removing multicolinear columns in seeds dataset...\n",
      "Finished\n",
      "Adding interactions to seeds dataset...\n",
      "Finished\n"
     ]
    },
    {
     "name": "stderr",
     "output_type": "stream",
     "text": [
      "IWLS:   4%|▎         | 18/500 [00:00<00:00, 8158.36it/s]\n",
      "SGD: 100%|██████████| 500/500 [00:01<00:00, 270.55it/s]\n",
      "ADAM:  51%|█████     | 255/500 [00:01<00:01, 192.72it/s]\n"
     ]
    },
    {
     "name": "stdout",
     "output_type": "stream",
     "text": [
      "CV split 1\n",
      "Removing multicolinear columns in sonar dataset...\n",
      "Finished\n",
      "Adding interactions to sonar dataset...\n",
      "Finished\n"
     ]
    },
    {
     "name": "stderr",
     "output_type": "stream",
     "text": [
      "IWLS:   3%|▎         | 14/500 [00:00<00:04, 114.37it/s]\n",
      "SGD:  71%|███████   | 353/500 [00:01<00:00, 178.47it/s]\n",
      "ADAM:  21%|██        | 105/500 [00:00<00:03, 118.05it/s]\n"
     ]
    },
    {
     "name": "stdout",
     "output_type": "stream",
     "text": [
      "CV split 2\n",
      "Removing multicolinear columns in sonar dataset...\n",
      "Finished\n",
      "Adding interactions to sonar dataset...\n",
      "Finished\n"
     ]
    },
    {
     "name": "stderr",
     "output_type": "stream",
     "text": [
      "IWLS:   3%|▎         | 14/500 [00:00<00:05, 93.87it/s] \n",
      "SGD:  65%|██████▍   | 323/500 [00:01<00:00, 179.01it/s]\n",
      "ADAM:  19%|█▉        | 95/500 [00:00<00:03, 109.46it/s]\n"
     ]
    },
    {
     "name": "stdout",
     "output_type": "stream",
     "text": [
      "CV split 3\n",
      "Removing multicolinear columns in sonar dataset...\n",
      "Finished\n",
      "Adding interactions to sonar dataset...\n",
      "Finished\n"
     ]
    },
    {
     "name": "stderr",
     "output_type": "stream",
     "text": [
      "IWLS:   3%|▎         | 14/500 [00:00<00:04, 119.25it/s]\n",
      "SGD:  69%|██████▉   | 345/500 [00:01<00:00, 182.58it/s]\n",
      "ADAM:  21%|██▏       | 107/500 [00:00<00:03, 117.47it/s]\n"
     ]
    },
    {
     "name": "stdout",
     "output_type": "stream",
     "text": [
      "CV split 4\n",
      "Removing multicolinear columns in sonar dataset...\n",
      "Finished\n",
      "Adding interactions to sonar dataset...\n",
      "Finished\n"
     ]
    },
    {
     "name": "stderr",
     "output_type": "stream",
     "text": [
      "IWLS:   3%|▎         | 14/500 [00:00<00:04, 114.18it/s]\n",
      "SGD:  71%|███████   | 353/500 [00:01<00:00, 179.03it/s]\n",
      "ADAM:  22%|██▏       | 108/500 [00:01<00:04, 97.12it/s]\n"
     ]
    },
    {
     "name": "stdout",
     "output_type": "stream",
     "text": [
      "CV split 5\n",
      "Removing multicolinear columns in sonar dataset...\n",
      "Finished\n",
      "Adding interactions to sonar dataset...\n",
      "Finished\n"
     ]
    },
    {
     "name": "stderr",
     "output_type": "stream",
     "text": [
      "IWLS:   3%|▎         | 14/500 [00:00<00:05, 95.47it/s] \n",
      "SGD:  67%|██████▋   | 333/500 [00:01<00:00, 173.08it/s]\n",
      "ADAM:  20%|██        | 101/500 [00:00<00:03, 107.12it/s]\n"
     ]
    }
   ],
   "source": [
    "l_inter_vals = {}\n",
    "acc_inter_vals = {}\n",
    "\n",
    "for dataset_name, dataset in loaded_datasets.items():\n",
    "    l_inter_vals[dataset_name], acc_inter_vals[dataset_name] = cv(dataset, n_splits=5, interactions=True)"
   ]
  },
  {
   "cell_type": "code",
   "execution_count": 44,
   "metadata": {},
   "outputs": [],
   "source": [
    "# save results to json\n",
    "import json\n",
    "with open('acc_inter_vals.json', 'w') as f:\n",
    "    json.dump(acc_inter_vals, f, indent=4)\n",
    "\n",
    "with open('l_inter_vals.json', 'w') as f:\n",
    "    json.dump(l_inter_vals, f, indent=4)"
   ]
  },
  {
   "cell_type": "code",
   "execution_count": 45,
   "metadata": {},
   "outputs": [
    {
     "data": {
      "text/html": [
       "<div>\n",
       "<style scoped>\n",
       "    .dataframe tbody tr th:only-of-type {\n",
       "        vertical-align: middle;\n",
       "    }\n",
       "\n",
       "    .dataframe tbody tr th {\n",
       "        vertical-align: top;\n",
       "    }\n",
       "\n",
       "    .dataframe thead th {\n",
       "        text-align: right;\n",
       "    }\n",
       "</style>\n",
       "<table border=\"1\" class=\"dataframe\">\n",
       "  <thead>\n",
       "    <tr style=\"text-align: right;\">\n",
       "      <th></th>\n",
       "      <th>iwls</th>\n",
       "      <th>adam</th>\n",
       "      <th>sgd</th>\n",
       "    </tr>\n",
       "  </thead>\n",
       "  <tbody>\n",
       "    <tr>\n",
       "      <th>booking</th>\n",
       "      <td>0.775225</td>\n",
       "      <td>0.773068</td>\n",
       "      <td>0.774274</td>\n",
       "    </tr>\n",
       "    <tr>\n",
       "      <th>challenger</th>\n",
       "      <td>1.0</td>\n",
       "      <td>1.0</td>\n",
       "      <td>1.0</td>\n",
       "    </tr>\n",
       "    <tr>\n",
       "      <th>churn</th>\n",
       "      <td>0.693248</td>\n",
       "      <td>0.694526</td>\n",
       "      <td>0.694399</td>\n",
       "    </tr>\n",
       "    <tr>\n",
       "      <th>diabetes</th>\n",
       "      <td>0.71137</td>\n",
       "      <td>0.721126</td>\n",
       "      <td>0.723694</td>\n",
       "    </tr>\n",
       "    <tr>\n",
       "      <th>ionosphere</th>\n",
       "      <td>0.643657</td>\n",
       "      <td>0.746735</td>\n",
       "      <td>0.726244</td>\n",
       "    </tr>\n",
       "    <tr>\n",
       "      <th>jungle</th>\n",
       "      <td>1.0</td>\n",
       "      <td>1.0</td>\n",
       "      <td>1.0</td>\n",
       "    </tr>\n",
       "    <tr>\n",
       "      <th>seeds</th>\n",
       "      <td>0.967615</td>\n",
       "      <td>0.981187</td>\n",
       "      <td>0.976187</td>\n",
       "    </tr>\n",
       "    <tr>\n",
       "      <th>sonar</th>\n",
       "      <td>0.797841</td>\n",
       "      <td>0.822657</td>\n",
       "      <td>0.798579</td>\n",
       "    </tr>\n",
       "    <tr>\n",
       "      <th>water</th>\n",
       "      <td>0.808288</td>\n",
       "      <td>0.802087</td>\n",
       "      <td>0.796033</td>\n",
       "    </tr>\n",
       "  </tbody>\n",
       "</table>\n",
       "</div>"
      ],
      "text/plain": [
       "                iwls      adam       sgd\n",
       "booking     0.775225  0.773068  0.774274\n",
       "challenger       1.0       1.0       1.0\n",
       "churn       0.693248  0.694526  0.694399\n",
       "diabetes     0.71137  0.721126  0.723694\n",
       "ionosphere  0.643657  0.746735  0.726244\n",
       "jungle           1.0       1.0       1.0\n",
       "seeds       0.967615  0.981187  0.976187\n",
       "sonar       0.797841  0.822657  0.798579\n",
       "water       0.808288  0.802087  0.796033"
      ]
     },
     "execution_count": 45,
     "metadata": {},
     "output_type": "execute_result"
    }
   ],
   "source": [
    "import pandas as pd\n",
    "custom_models = ['iwls', 'adam', 'sgd']\n",
    "\n",
    "# Create an empty dataframe to store the average accuracy values\n",
    "avg_acc_df = pd.DataFrame(index=custom_models, columns=acc_inter_vals.keys())\n",
    "\n",
    "# Compute the average accuracy for each custom model and dataset\n",
    "for model in custom_models:\n",
    "    for dataset, splits in acc_inter_vals.items():\n",
    "        avg_acc = sum(splits[model]) / len(splits[model])\n",
    "        avg_acc_df.loc[model, dataset] = avg_acc\n",
    "\n",
    "sorted_acc_table = avg_acc_df.T.sort_index()\n",
    "sorted_acc_table"
   ]
  },
  {
   "cell_type": "code",
   "execution_count": null,
   "metadata": {},
   "outputs": [],
   "source": []
  },
  {
   "cell_type": "code",
   "execution_count": 58,
   "metadata": {},
   "outputs": [
    {
     "data": {
      "image/png": "[encoded data removed]",
      "text/plain": [
       "<Figure size 1000x1000 with 9 Axes>"
      ]
     },
     "metadata": {},
     "output_type": "display_data"
    }
   ],
   "source": [
    "import pandas as pd\n",
    "\n",
    "\n",
    "custom_models = ['iwls', 'adam', 'sgd']\n",
    "\n",
    "fig, axes = plt.subplots(3, 3, figsize=(10, 10), sharey=True)\n",
    "for i, dataset in enumerate(acc_vals):\n",
    "    data1 = pd.DataFrame(acc_vals[dataset]).melt(var_name='Method', value_name='Balanced Accuracy')\n",
    "    data1 = data1[data1['Method'].isin(custom_models)]\n",
    "    data1['Type'] = 'Without Interactions'\n",
    "    data2 = pd.DataFrame(acc_inter_vals[dataset]).melt(var_name='Method', value_name='Balanced Accuracy')\n",
    "    data2 = data2[data2['Method'].isin(custom_models)]\n",
    "    data2['Type'] = 'With Interactions'\n",
    "    \n",
    "    data = pd.concat([data1, data2])\n",
    "    \n",
    "    row = i // 3\n",
    "    col = i % 3\n",
    "    \n",
    "    sns.boxplot(x='Method', y='Balanced Accuracy', hue='Type', data=data, ax=axes[row, col])\n",
    "    axes[row, col].set_title(dataset)\n",
    "    \n",
    "    if row == 2:\n",
    "        axes[row, col].set_xlabel('Method')\n",
    "    if col == 0:\n",
    "        axes[row, col].set_ylabel('Balanced Accuracy')\n",
    "    if row != 0 or col != 0:\n",
    "        axes[row, col].legend().remove()\n",
    "    else:\n",
    "        axes[row, col].legend(fontsize='large', loc='upper left')\n",
    "\n",
    "plt.tight_layout()\n",
    "plt.show()"
   ]
  },
  {
   "cell_type": "code",
   "execution_count": 46,
   "metadata": {},
   "outputs": [
    {
     "data": {
      "image/png": "[encoded data removed]",
      "text/plain": [
       "<Figure size 1000x1000 with 9 Axes>"
      ]
     },
     "metadata": {},
     "output_type": "display_data"
    }
   ],
   "source": [
    "import seaborn as sns\n",
    "import matplotlib.pyplot as plt\n",
    "\n",
    "\n",
    "fig, axes = plt.subplots(3, 3, figsize=(10, 10), sharey=True)\n",
    "for i, dataset in enumerate(acc_vals):\n",
    "    data = acc_vals[dataset]\n",
    "    data2 = acc_inter_vals[dataset]\n",
    "    \n",
    "    row = i // 3\n",
    "    col = i % 3\n",
    "    sns.boxplot(data=list(data.values()), ax=axes[row, col], color='dodgerblue')\n",
    "    sns.boxplot(data=list(data2.values()), ax=axes[row, col], color='orange')\n",
    "    axes[row, col].set_title(dataset)\n",
    "    if row == 2:\n",
    "        axes[row, col].set_xlabel('Method')\n",
    "    if col == 0:\n",
    "        axes[row, col].set_ylabel('Balanced Accuracy')\n",
    "\n",
    "    axes[row, col].set_xticklabels(data.keys())\n",
    "\n",
    "plt.tight_layout()\n",
    "plt.show()"
   ]
  },
  {
   "cell_type": "markdown",
   "metadata": {},
   "source": [
    "# Classification Performance Comparison for Datasets with and without interactions"
   ]
  },
  {
   "cell_type": "code",
   "execution_count": null,
   "metadata": {},
   "outputs": [],
   "source": [
    "import json\n",
    "import pandas as pd\n",
    "import numpy as np"
   ]
  },
  {
   "cell_type": "code",
   "execution_count": null,
   "metadata": {},
   "outputs": [],
   "source": [
    "with open('results/acc_vals.json', 'r') as file:\n",
    "    acc_vals = json.load(file)"
   ]
  },
  {
   "cell_type": "code",
   "execution_count": null,
   "metadata": {},
   "outputs": [],
   "source": [
    "with open('results/acc_inter_vals.json', 'r') as file:\n",
    "    acc_inter_vals = json.load(file)"
   ]
  },
  {
   "cell_type": "code",
   "execution_count": null,
   "metadata": {},
   "outputs": [],
   "source": [
    "avg_acc = {dataset: {method: sum(values) / len(values) for method, values in methods.items()} for dataset, methods in acc_vals.items()}\n",
    "avg_inter_acc = {dataset: {method: sum(values) / len(values) for method, values in methods.items()} for dataset, methods in acc_inter_vals.items()}\n",
    "\n",
    "# Create a DataFrame from the average accuracy dictionary\n",
    "avg_acc_df = pd.DataFrame(avg_acc).T\n",
    "avg_acc_df = avg_acc_df[['iwls', 'sgd', 'adam']]\n",
    "avg_inter_acc_df = pd.DataFrame(avg_inter_acc).T\n",
    "avg_inter_acc_df = avg_inter_acc_df[['iwls', 'sgd', 'adam']]\n",
    "avg_inter_acc_df = avg_inter_acc_df.rename(columns={'iwls': 'iwls+int', 'sgd': 'sgd+int', 'adam': 'adam+int'})"
   ]
  },
  {
   "cell_type": "code",
   "execution_count": null,
   "metadata": {},
   "outputs": [
    {
     "data": {
      "text/html": [
       "<div>\n",
       "<style scoped>\n",
       "    .dataframe tbody tr th:only-of-type {\n",
       "        vertical-align: middle;\n",
       "    }\n",
       "\n",
       "    .dataframe tbody tr th {\n",
       "        vertical-align: top;\n",
       "    }\n",
       "\n",
       "    .dataframe thead th {\n",
       "        text-align: right;\n",
       "    }\n",
       "</style>\n",
       "<table border=\"1\" class=\"dataframe\">\n",
       "  <thead>\n",
       "    <tr style=\"text-align: right;\">\n",
       "      <th></th>\n",
       "      <th>iwls</th>\n",
       "      <th>iwls+int</th>\n",
       "      <th>sgd</th>\n",
       "      <th>sgd+int</th>\n",
       "      <th>adam</th>\n",
       "      <th>adam+int</th>\n",
       "    </tr>\n",
       "  </thead>\n",
       "  <tbody>\n",
       "    <tr>\n",
       "      <th>booking</th>\n",
       "      <td>0.750671</td>\n",
       "      <td>0.775225</td>\n",
       "      <td>0.750545</td>\n",
       "      <td>0.774274</td>\n",
       "      <td>0.752229</td>\n",
       "      <td>0.773068</td>\n",
       "    </tr>\n",
       "    <tr>\n",
       "      <th>churn</th>\n",
       "      <td>0.651783</td>\n",
       "      <td>0.693248</td>\n",
       "      <td>0.658934</td>\n",
       "      <td>0.694399</td>\n",
       "      <td>0.654283</td>\n",
       "      <td>0.694526</td>\n",
       "    </tr>\n",
       "    <tr>\n",
       "      <th>diabetes</th>\n",
       "      <td>0.752575</td>\n",
       "      <td>0.711370</td>\n",
       "      <td>0.756157</td>\n",
       "      <td>0.723694</td>\n",
       "      <td>0.755250</td>\n",
       "      <td>0.721126</td>\n",
       "    </tr>\n",
       "    <tr>\n",
       "      <th>challenger</th>\n",
       "      <td>1.000000</td>\n",
       "      <td>1.000000</td>\n",
       "      <td>1.000000</td>\n",
       "      <td>1.000000</td>\n",
       "      <td>1.000000</td>\n",
       "      <td>1.000000</td>\n",
       "    </tr>\n",
       "    <tr>\n",
       "      <th>jungle</th>\n",
       "      <td>0.986464</td>\n",
       "      <td>1.000000</td>\n",
       "      <td>0.984791</td>\n",
       "      <td>1.000000</td>\n",
       "      <td>0.985144</td>\n",
       "      <td>1.000000</td>\n",
       "    </tr>\n",
       "    <tr>\n",
       "      <th>ionosphere</th>\n",
       "      <td>0.830170</td>\n",
       "      <td>0.643657</td>\n",
       "      <td>0.842656</td>\n",
       "      <td>0.726244</td>\n",
       "      <td>0.835040</td>\n",
       "      <td>0.746735</td>\n",
       "    </tr>\n",
       "    <tr>\n",
       "      <th>water</th>\n",
       "      <td>0.664324</td>\n",
       "      <td>0.808288</td>\n",
       "      <td>0.663382</td>\n",
       "      <td>0.796033</td>\n",
       "      <td>0.664809</td>\n",
       "      <td>0.802087</td>\n",
       "    </tr>\n",
       "    <tr>\n",
       "      <th>seeds</th>\n",
       "      <td>0.969714</td>\n",
       "      <td>0.967615</td>\n",
       "      <td>0.976857</td>\n",
       "      <td>0.976187</td>\n",
       "      <td>0.973714</td>\n",
       "      <td>0.981187</td>\n",
       "    </tr>\n",
       "    <tr>\n",
       "      <th>sonar</th>\n",
       "      <td>0.772823</td>\n",
       "      <td>0.797841</td>\n",
       "      <td>0.779817</td>\n",
       "      <td>0.798579</td>\n",
       "      <td>0.780486</td>\n",
       "      <td>0.822657</td>\n",
       "    </tr>\n",
       "  </tbody>\n",
       "</table>\n",
       "</div>"
      ],
      "text/plain": [
       "                iwls  iwls+int       sgd   sgd+int      adam  adam+int\n",
       "booking     0.750671  0.775225  0.750545  0.774274  0.752229  0.773068\n",
       "churn       0.651783  0.693248  0.658934  0.694399  0.654283  0.694526\n",
       "diabetes    0.752575  0.711370  0.756157  0.723694  0.755250  0.721126\n",
       "challenger  1.000000  1.000000  1.000000  1.000000  1.000000  1.000000\n",
       "jungle      0.986464  1.000000  0.984791  1.000000  0.985144  1.000000\n",
       "ionosphere  0.830170  0.643657  0.842656  0.726244  0.835040  0.746735\n",
       "water       0.664324  0.808288  0.663382  0.796033  0.664809  0.802087\n",
       "seeds       0.969714  0.967615  0.976857  0.976187  0.973714  0.981187\n",
       "sonar       0.772823  0.797841  0.779817  0.798579  0.780486  0.822657"
      ]
     },
     "metadata": {},
     "output_type": "display_data"
    }
   ],
   "source": [
    "# Accuracy DataFrame\n",
    "df = pd.merge(avg_acc_df, avg_inter_acc)[['iwls', 'iwls+int', 'sgd', 'sgd+int', 'adam', 'adam+int']]\n",
    "df"
   ]
  }
 ],
 "metadata": {
  "kernelspec": {
   "display_name": "aml_env",
   "language": "python",
   "name": "python3"
  },
  "language_info": {
   "codemirror_mode": {
    "name": "ipython",
    "version": 3
   },
   "file_extension": ".py",
   "mimetype": "text/x-python",
   "name": "python",
   "nbconvert_exporter": "python",
   "pygments_lexer": "ipython3",
   "version": "3.12.2"
  }
 },
 "nbformat": 4,
 "nbformat_minor": 2
}
